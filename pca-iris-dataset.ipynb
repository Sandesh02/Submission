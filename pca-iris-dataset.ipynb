{
 "cells": [
  {
   "cell_type": "markdown",
   "id": "eight-status",
   "metadata": {
    "_cell_guid": "b1076dfc-b9ad-4769-8c92-a6c4dae69d19",
    "_uuid": "8f2839f25d086af736a60e9eeb907d3b93b6e0e5",
    "papermill": {
     "duration": 0.02055,
     "end_time": "2022-05-24T16:48:08.279362",
     "exception": false,
     "start_time": "2022-05-24T16:48:08.258812",
     "status": "completed"
    },
    "tags": []
   },
   "source": [
    "# Principal Component Analysis\n",
    "* Principal Component Analysis (PCA) is a simple yet popular and useful linear transformation technique that is used in numerous applications, such as stock market predictions, the analysis of gene expression data, and many more\n",
    "* In this tutorial, we will see that PCA is not just a “black box”, and we are going to unravel its internals in 3 basic steps.\n",
    "* Large data  is useful but on computation it causes a lot of issue\n",
    "* PCA helps us to retain the correlation among the most important feature of the dataset\n",
    "\n",
    "    "
   ]
  },
  {
   "cell_type": "markdown",
   "id": "plastic-terrorist",
   "metadata": {
    "papermill": {
     "duration": 0.01909,
     "end_time": "2022-05-24T16:48:08.317836",
     "exception": false,
     "start_time": "2022-05-24T16:48:08.298746",
     "status": "completed"
    },
    "tags": []
   },
   "source": [
    "# A Summary of the PCA Approach\n",
    "* Standardize the data.\n",
    "* Obtain the Eigenvectors and Eigenvalues from the covariance matrix or correlation matrix, or perform Singular Value Decomposition.\n",
    "* Sort eigenvalues in descending order and choose the k eigenvectors that correspond to the k largest eigenvalues where k is the number of dimensions of the new feature subspace (k≤d).\n",
    "* Construct the projection matrix W from the selected k eigenvectors.\n",
    "* Transform the original dataset X via W to obtain a k-dimensional feature subspace Y."
   ]
  },
  {
   "cell_type": "code",
   "execution_count": 1,
   "id": "technical-spyware",
   "metadata": {
    "execution": {
     "iopub.execute_input": "2022-05-24T16:48:08.364734Z",
     "iopub.status.busy": "2022-05-24T16:48:08.364046Z",
     "iopub.status.idle": "2022-05-24T16:48:09.177445Z",
     "shell.execute_reply": "2022-05-24T16:48:09.178065Z",
     "shell.execute_reply.started": "2022-05-24T16:46:48.514229Z"
    },
    "papermill": {
     "duration": 0.841533,
     "end_time": "2022-05-24T16:48:09.178352",
     "exception": false,
     "start_time": "2022-05-24T16:48:08.336819",
     "status": "completed"
    },
    "tags": []
   },
   "outputs": [],
   "source": [
    "import pandas as pd\n",
    "import numpy as np\n",
    "import seaborn as sns\n",
    "import matplotlib.pyplot as plt"
   ]
  },
  {
   "cell_type": "code",
   "execution_count": 2,
   "id": "automotive-france",
   "metadata": {
    "execution": {
     "iopub.execute_input": "2022-05-24T16:48:09.220590Z",
     "iopub.status.busy": "2022-05-24T16:48:09.219673Z",
     "iopub.status.idle": "2022-05-24T16:48:09.259934Z",
     "shell.execute_reply": "2022-05-24T16:48:09.260418Z",
     "shell.execute_reply.started": "2022-05-24T16:46:48.528955Z"
    },
    "papermill": {
     "duration": 0.062568,
     "end_time": "2022-05-24T16:48:09.260602",
     "exception": false,
     "start_time": "2022-05-24T16:48:09.198034",
     "status": "completed"
    },
    "tags": []
   },
   "outputs": [
    {
     "data": {
      "text/html": [
       "<div>\n",
       "<style scoped>\n",
       "    .dataframe tbody tr th:only-of-type {\n",
       "        vertical-align: middle;\n",
       "    }\n",
       "\n",
       "    .dataframe tbody tr th {\n",
       "        vertical-align: top;\n",
       "    }\n",
       "\n",
       "    .dataframe thead th {\n",
       "        text-align: right;\n",
       "    }\n",
       "</style>\n",
       "<table border=\"1\" class=\"dataframe\">\n",
       "  <thead>\n",
       "    <tr style=\"text-align: right;\">\n",
       "      <th></th>\n",
       "      <th>sepal_length</th>\n",
       "      <th>sepal_width</th>\n",
       "      <th>petal_length</th>\n",
       "      <th>petal_width</th>\n",
       "      <th>species</th>\n",
       "    </tr>\n",
       "  </thead>\n",
       "  <tbody>\n",
       "    <tr>\n",
       "      <th>0</th>\n",
       "      <td>5.1</td>\n",
       "      <td>3.5</td>\n",
       "      <td>1.4</td>\n",
       "      <td>0.2</td>\n",
       "      <td>Iris-setosa</td>\n",
       "    </tr>\n",
       "    <tr>\n",
       "      <th>1</th>\n",
       "      <td>4.9</td>\n",
       "      <td>3.0</td>\n",
       "      <td>1.4</td>\n",
       "      <td>0.2</td>\n",
       "      <td>Iris-setosa</td>\n",
       "    </tr>\n",
       "    <tr>\n",
       "      <th>2</th>\n",
       "      <td>4.7</td>\n",
       "      <td>3.2</td>\n",
       "      <td>1.3</td>\n",
       "      <td>0.2</td>\n",
       "      <td>Iris-setosa</td>\n",
       "    </tr>\n",
       "    <tr>\n",
       "      <th>3</th>\n",
       "      <td>4.6</td>\n",
       "      <td>3.1</td>\n",
       "      <td>1.5</td>\n",
       "      <td>0.2</td>\n",
       "      <td>Iris-setosa</td>\n",
       "    </tr>\n",
       "    <tr>\n",
       "      <th>4</th>\n",
       "      <td>5.0</td>\n",
       "      <td>3.6</td>\n",
       "      <td>1.4</td>\n",
       "      <td>0.2</td>\n",
       "      <td>Iris-setosa</td>\n",
       "    </tr>\n",
       "  </tbody>\n",
       "</table>\n",
       "</div>"
      ],
      "text/plain": [
       "   sepal_length  sepal_width  petal_length  petal_width      species\n",
       "0           5.1          3.5           1.4          0.2  Iris-setosa\n",
       "1           4.9          3.0           1.4          0.2  Iris-setosa\n",
       "2           4.7          3.2           1.3          0.2  Iris-setosa\n",
       "3           4.6          3.1           1.5          0.2  Iris-setosa\n",
       "4           5.0          3.6           1.4          0.2  Iris-setosa"
      ]
     },
     "execution_count": 2,
     "metadata": {},
     "output_type": "execute_result"
    }
   ],
   "source": [
    "df=pd.read_csv('../input/iris-flower-dataset/IRIS.csv', sep=',')\n",
    "df.head()"
   ]
  },
  {
   "cell_type": "code",
   "execution_count": 3,
   "id": "reflected-forestry",
   "metadata": {
    "execution": {
     "iopub.execute_input": "2022-05-24T16:48:09.309235Z",
     "iopub.status.busy": "2022-05-24T16:48:09.308611Z",
     "iopub.status.idle": "2022-05-24T16:48:09.311049Z",
     "shell.execute_reply": "2022-05-24T16:48:09.311446Z",
     "shell.execute_reply.started": "2022-05-24T16:46:48.571750Z"
    },
    "papermill": {
     "duration": 0.030964,
     "end_time": "2022-05-24T16:48:09.311611",
     "exception": false,
     "start_time": "2022-05-24T16:48:09.280647",
     "status": "completed"
    },
    "tags": []
   },
   "outputs": [
    {
     "data": {
      "text/plain": [
       "Iris-setosa        50\n",
       "Iris-versicolor    50\n",
       "Iris-virginica     50\n",
       "Name: species, dtype: int64"
      ]
     },
     "execution_count": 3,
     "metadata": {},
     "output_type": "execute_result"
    }
   ],
   "source": [
    "df['species'].value_counts()"
   ]
  },
  {
   "cell_type": "code",
   "execution_count": 4,
   "id": "worthy-winter",
   "metadata": {
    "execution": {
     "iopub.execute_input": "2022-05-24T16:48:09.354990Z",
     "iopub.status.busy": "2022-05-24T16:48:09.354029Z",
     "iopub.status.idle": "2022-05-24T16:48:09.360770Z",
     "shell.execute_reply": "2022-05-24T16:48:09.361208Z",
     "shell.execute_reply.started": "2022-05-24T16:46:48.621779Z"
    },
    "papermill": {
     "duration": 0.030069,
     "end_time": "2022-05-24T16:48:09.361378",
     "exception": false,
     "start_time": "2022-05-24T16:48:09.331309",
     "status": "completed"
    },
    "tags": []
   },
   "outputs": [
    {
     "data": {
      "text/plain": [
       "Index(['sepal_length', 'sepal_width', 'petal_length', 'petal_width',\n",
       "       'species'],\n",
       "      dtype='object')"
      ]
     },
     "execution_count": 4,
     "metadata": {},
     "output_type": "execute_result"
    }
   ],
   "source": [
    "df.columns"
   ]
  },
  {
   "cell_type": "code",
   "execution_count": 5,
   "id": "champion-choice",
   "metadata": {
    "execution": {
     "iopub.execute_input": "2022-05-24T16:48:09.411749Z",
     "iopub.status.busy": "2022-05-24T16:48:09.410845Z",
     "iopub.status.idle": "2022-05-24T16:48:09.415704Z",
     "shell.execute_reply": "2022-05-24T16:48:09.416230Z",
     "shell.execute_reply.started": "2022-05-24T16:46:48.662776Z"
    },
    "papermill": {
     "duration": 0.032285,
     "end_time": "2022-05-24T16:48:09.416400",
     "exception": false,
     "start_time": "2022-05-24T16:48:09.384115",
     "status": "completed"
    },
    "tags": []
   },
   "outputs": [],
   "source": [
    "X=df.iloc[:,0:4].values\n",
    "y=df.iloc[:,4].values"
   ]
  },
  {
   "cell_type": "code",
   "execution_count": 6,
   "id": "vietnamese-intensity",
   "metadata": {
    "execution": {
     "iopub.execute_input": "2022-05-24T16:48:09.459512Z",
     "iopub.status.busy": "2022-05-24T16:48:09.458858Z",
     "iopub.status.idle": "2022-05-24T16:48:10.247936Z",
     "shell.execute_reply": "2022-05-24T16:48:10.247306Z",
     "shell.execute_reply.started": "2022-05-24T16:46:48.709039Z"
    },
    "papermill": {
     "duration": 0.811719,
     "end_time": "2022-05-24T16:48:10.248096",
     "exception": false,
     "start_time": "2022-05-24T16:48:09.436377",
     "status": "completed"
    },
    "tags": []
   },
   "outputs": [
    {
     "data": {
      "image/png": "[encoded data removed]",
      "text/plain": [
       "<Figure size 576x432 with 4 Axes>"
      ]
     },
     "metadata": {},
     "output_type": "display_data"
    }
   ],
   "source": [
    "label_dict={1: 'Iris-setosa',\n",
    "           2: 'Iris-virginica',\n",
    "           3: 'Iris-versicolor'}\n",
    "feature_dict={0: 'sepal_length',1: 'sepal_width',2: 'petal_length',3: 'petal_width'}\n",
    "\n",
    "with plt.style.context('seaborn-whitegrid'):\n",
    "    plt.figure(figsize=(8,6))\n",
    "    for i in range(4):\n",
    "        plt.subplot(2,2,i+1)\n",
    "        for lab in ('Iris-setosa','Iris-virginica','Iris-versicolor'):\n",
    "            plt.hist(X[y==lab, i],\n",
    "                    label=lab,\n",
    "                    bins=10,\n",
    "                    alpha=0.3)\n",
    "        plt.xlabel(feature_dict[i])\n",
    "    plt.legend(loc='upper right', fancybox=True,fontsize=8)\n",
    "    \n",
    "    plt.tight_layout()\n",
    "    plt.show()\n",
    "        "
   ]
  },
  {
   "cell_type": "code",
   "execution_count": null,
   "id": "adverse-eligibility",
   "metadata": {
    "papermill": {
     "duration": 0.020665,
     "end_time": "2022-05-24T16:48:10.290100",
     "exception": false,
     "start_time": "2022-05-24T16:48:10.269435",
     "status": "completed"
    },
    "tags": []
   },
   "outputs": [],
   "source": []
  },
  {
   "cell_type": "code",
   "execution_count": 7,
   "id": "oriental-minister",
   "metadata": {
    "execution": {
     "iopub.execute_input": "2022-05-24T16:48:10.334999Z",
     "iopub.status.busy": "2022-05-24T16:48:10.334417Z",
     "iopub.status.idle": "2022-05-24T16:48:10.474318Z",
     "shell.execute_reply": "2022-05-24T16:48:10.474774Z",
     "shell.execute_reply.started": "2022-05-24T16:46:49.432357Z"
    },
    "papermill": {
     "duration": 0.163797,
     "end_time": "2022-05-24T16:48:10.474946",
     "exception": false,
     "start_time": "2022-05-24T16:48:10.311149",
     "status": "completed"
    },
    "tags": []
   },
   "outputs": [
    {
     "data": {
      "text/plain": [
       "149"
      ]
     },
     "execution_count": 7,
     "metadata": {},
     "output_type": "execute_result"
    }
   ],
   "source": [
    "from sklearn.preprocessing import StandardScaler\n",
    "X_std=StandardScaler().fit_transform(X)\n",
    "X_std.shape[0]-1"
   ]
  },
  {
   "cell_type": "code",
   "execution_count": 8,
   "id": "alive-thomson",
   "metadata": {
    "execution": {
     "iopub.execute_input": "2022-05-24T16:48:10.521565Z",
     "iopub.status.busy": "2022-05-24T16:48:10.520849Z",
     "iopub.status.idle": "2022-05-24T16:48:10.527212Z",
     "shell.execute_reply": "2022-05-24T16:48:10.527941Z",
     "shell.execute_reply.started": "2022-05-24T16:46:49.577807Z"
    },
    "papermill": {
     "duration": 0.031677,
     "end_time": "2022-05-24T16:48:10.528188",
     "exception": false,
     "start_time": "2022-05-24T16:48:10.496511",
     "status": "completed"
    },
    "tags": []
   },
   "outputs": [
    {
     "name": "stdout",
     "output_type": "stream",
     "text": [
      "Covariance Matrix \n",
      "[[ 1.00671141 -0.11010327  0.87760486  0.82344326]\n",
      " [-0.11010327  1.00671141 -0.42333835 -0.358937  ]\n",
      " [ 0.87760486 -0.42333835  1.00671141  0.96921855]\n",
      " [ 0.82344326 -0.358937    0.96921855  1.00671141]]\n"
     ]
    }
   ],
   "source": [
    "mean_vec=np.mean(X_std,axis=0)\n",
    "cov_mat=(X_std-mean_vec).T.dot((X_std-mean_vec))/(X_std.shape[0]-1)\n",
    "print(\"Covariance Matrix \\n%s\" %cov_mat)\n",
    "                 "
   ]
  },
  {
   "cell_type": "code",
   "execution_count": 9,
   "id": "advance-efficiency",
   "metadata": {
    "execution": {
     "iopub.execute_input": "2022-05-24T16:48:10.574440Z",
     "iopub.status.busy": "2022-05-24T16:48:10.573783Z",
     "iopub.status.idle": "2022-05-24T16:48:10.581722Z",
     "shell.execute_reply": "2022-05-24T16:48:10.581132Z",
     "shell.execute_reply.started": "2022-05-24T16:46:49.586710Z"
    },
    "papermill": {
     "duration": 0.031747,
     "end_time": "2022-05-24T16:48:10.581857",
     "exception": false,
     "start_time": "2022-05-24T16:48:10.550110",
     "status": "completed"
    },
    "tags": []
   },
   "outputs": [
    {
     "name": "stdout",
     "output_type": "stream",
     "text": [
      "Numpy Covariance matrix \n",
      "[[ 1.00671141 -0.11010327  0.87760486  0.82344326]\n",
      " [-0.11010327  1.00671141 -0.42333835 -0.358937  ]\n",
      " [ 0.87760486 -0.42333835  1.00671141  0.96921855]\n",
      " [ 0.82344326 -0.358937    0.96921855  1.00671141]]\n"
     ]
    }
   ],
   "source": [
    "print(\"Numpy Covariance matrix \\n%s\" %np.cov(X_std.T))"
   ]
  },
  {
   "cell_type": "markdown",
   "id": "amended-jungle",
   "metadata": {
    "papermill": {
     "duration": 0.021918,
     "end_time": "2022-05-24T16:48:10.625835",
     "exception": false,
     "start_time": "2022-05-24T16:48:10.603917",
     "status": "completed"
    },
    "tags": []
   },
   "source": [
    "Next, we perform an eigendecomposition on the covariance matrix:"
   ]
  },
  {
   "cell_type": "code",
   "execution_count": 10,
   "id": "prescription-stress",
   "metadata": {
    "execution": {
     "iopub.execute_input": "2022-05-24T16:48:10.672305Z",
     "iopub.status.busy": "2022-05-24T16:48:10.671684Z",
     "iopub.status.idle": "2022-05-24T16:48:10.691871Z",
     "shell.execute_reply": "2022-05-24T16:48:10.692863Z",
     "shell.execute_reply.started": "2022-05-24T16:46:49.599474Z"
    },
    "papermill": {
     "duration": 0.045616,
     "end_time": "2022-05-24T16:48:10.693170",
     "exception": false,
     "start_time": "2022-05-24T16:48:10.647554",
     "status": "completed"
    },
    "tags": []
   },
   "outputs": [
    {
     "name": "stdout",
     "output_type": "stream",
     "text": [
      "Eigenvectors \n",
      "[[ 0.52237162 -0.37231836 -0.72101681  0.26199559]\n",
      " [-0.26335492 -0.92555649  0.24203288 -0.12413481]\n",
      " [ 0.58125401 -0.02109478  0.14089226 -0.80115427]\n",
      " [ 0.56561105 -0.06541577  0.6338014   0.52354627]]\n",
      "Eigenvelues \n",
      "[2.93035378 0.92740362 0.14834223 0.02074601]\n"
     ]
    }
   ],
   "source": [
    "cov_mat=np.cov(X_std.T)\n",
    "\n",
    "eig_vals, eig_vecs=np.linalg.eig(cov_mat)\n",
    "\n",
    "print(\"Eigenvectors \\n%s\" %eig_vecs)\n",
    "print(\"Eigenvelues \\n%s\" %eig_vals)"
   ]
  },
  {
   "cell_type": "markdown",
   "id": "appointed-uncertainty",
   "metadata": {
    "papermill": {
     "duration": 0.02176,
     "end_time": "2022-05-24T16:48:10.737740",
     "exception": false,
     "start_time": "2022-05-24T16:48:10.715980",
     "status": "completed"
    },
    "tags": []
   },
   "source": [
    "# Correlation Matrix"
   ]
  },
  {
   "cell_type": "code",
   "execution_count": 11,
   "id": "alike-problem",
   "metadata": {
    "execution": {
     "iopub.execute_input": "2022-05-24T16:48:10.786251Z",
     "iopub.status.busy": "2022-05-24T16:48:10.785622Z",
     "iopub.status.idle": "2022-05-24T16:48:10.792233Z",
     "shell.execute_reply": "2022-05-24T16:48:10.791666Z",
     "shell.execute_reply.started": "2022-05-24T16:46:49.635461Z"
    },
    "papermill": {
     "duration": 0.032528,
     "end_time": "2022-05-24T16:48:10.792377",
     "exception": false,
     "start_time": "2022-05-24T16:48:10.759849",
     "status": "completed"
    },
    "tags": []
   },
   "outputs": [
    {
     "name": "stdout",
     "output_type": "stream",
     "text": [
      "Eigenvectors \n",
      "[[ 0.52237162 -0.37231836 -0.72101681  0.26199559]\n",
      " [-0.26335492 -0.92555649  0.24203288 -0.12413481]\n",
      " [ 0.58125401 -0.02109478  0.14089226 -0.80115427]\n",
      " [ 0.56561105 -0.06541577  0.6338014   0.52354627]]\n",
      "Eigenvelues \n",
      "[2.91081808 0.92122093 0.14735328 0.02060771]\n"
     ]
    }
   ],
   "source": [
    "corr_mat1=np.corrcoef(X_std.T)\n",
    "\n",
    "eig_vals, eig_vecs=np.linalg.eig(corr_mat1)\n",
    "\n",
    "print(\"Eigenvectors \\n%s\" %eig_vecs)\n",
    "print(\"Eigenvelues \\n%s\" %eig_vals)"
   ]
  },
  {
   "cell_type": "markdown",
   "id": "approximate-spectrum",
   "metadata": {
    "papermill": {
     "duration": 0.022387,
     "end_time": "2022-05-24T16:48:10.837685",
     "exception": false,
     "start_time": "2022-05-24T16:48:10.815298",
     "status": "completed"
    },
    "tags": []
   },
   "source": [
    "# Eigendecomposition of the raw data based on the correlation matrix"
   ]
  },
  {
   "cell_type": "code",
   "execution_count": 12,
   "id": "correct-voltage",
   "metadata": {
    "execution": {
     "iopub.execute_input": "2022-05-24T16:48:10.886517Z",
     "iopub.status.busy": "2022-05-24T16:48:10.885922Z",
     "iopub.status.idle": "2022-05-24T16:48:11.007716Z",
     "shell.execute_reply": "2022-05-24T16:48:11.008515Z",
     "shell.execute_reply.started": "2022-05-24T16:46:49.645840Z"
    },
    "papermill": {
     "duration": 0.148488,
     "end_time": "2022-05-24T16:48:11.008699",
     "exception": false,
     "start_time": "2022-05-24T16:48:10.860211",
     "status": "completed"
    },
    "tags": []
   },
   "outputs": [
    {
     "name": "stdout",
     "output_type": "stream",
     "text": [
      "Eigenvectors \n",
      "[[ 0.52237162 -0.37231836 -0.72101681  0.26199559]\n",
      " [-0.26335492 -0.92555649  0.24203288 -0.12413481]\n",
      " [ 0.58125401 -0.02109478  0.14089226 -0.80115427]\n",
      " [ 0.56561105 -0.06541577  0.6338014   0.52354627]]\n",
      "Eigenvelues \n",
      "[2.91081808 0.92122093 0.14735328 0.02060771]\n"
     ]
    }
   ],
   "source": [
    "cor_mat2=np.corrcoef(X.T)\n",
    "eig_vals, eig_vecs=np.linalg.eig(cor_mat2)\n",
    "\n",
    "print(\"Eigenvectors \\n%s\" %eig_vecs)\n",
    "print(\"Eigenvelues \\n%s\" %eig_vals)\n"
   ]
  },
  {
   "cell_type": "markdown",
   "id": "adapted-stock",
   "metadata": {
    "papermill": {
     "duration": 0.02716,
     "end_time": "2022-05-24T16:48:11.062890",
     "exception": false,
     "start_time": "2022-05-24T16:48:11.035730",
     "status": "completed"
    },
    "tags": []
   },
   "source": [
    "# We can clearly see that all three approaches yield the same eigenvectors and eigenvalue pairs:\n",
    "\n",
    "* Eigendecomposition of the covariance matrix after standardizing the data.\n",
    "* Eigendecomposition of the correlation matrix.\n",
    "* Eigendecomposition of the correlation matrix after standardizing the data."
   ]
  },
  {
   "cell_type": "markdown",
   "id": "strategic-metropolitan",
   "metadata": {
    "papermill": {
     "duration": 0.022537,
     "end_time": "2022-05-24T16:48:11.108341",
     "exception": false,
     "start_time": "2022-05-24T16:48:11.085804",
     "status": "completed"
    },
    "tags": []
   },
   "source": [
    "# Singular Value Decomposition"
   ]
  },
  {
   "cell_type": "markdown",
   "id": "destroyed-proceeding",
   "metadata": {
    "papermill": {
     "duration": 0.022456,
     "end_time": "2022-05-24T16:48:11.153504",
     "exception": false,
     "start_time": "2022-05-24T16:48:11.131048",
     "status": "completed"
    },
    "tags": []
   },
   "source": [
    "While the eigendecomposition of the covariance or correlation matrix may be more intuitiuve, most PCA implementations perform a Singular Value Decomposition (SVD) to improve the computational efficiency. So, let us perform an SVD to confirm that the result are indeed the same:"
   ]
  },
  {
   "cell_type": "code",
   "execution_count": 13,
   "id": "associate-hundred",
   "metadata": {
    "execution": {
     "iopub.execute_input": "2022-05-24T16:48:11.201485Z",
     "iopub.status.busy": "2022-05-24T16:48:11.200856Z",
     "iopub.status.idle": "2022-05-24T16:48:11.219222Z",
     "shell.execute_reply": "2022-05-24T16:48:11.219981Z",
     "shell.execute_reply.started": "2022-05-24T16:46:49.657468Z"
    },
    "papermill": {
     "duration": 0.044269,
     "end_time": "2022-05-24T16:48:11.220244",
     "exception": false,
     "start_time": "2022-05-24T16:48:11.175975",
     "status": "completed"
    },
    "tags": []
   },
   "outputs": [
    {
     "data": {
      "text/plain": [
       "array([[-0.52237162, -0.37231836,  0.72101681,  0.26199559],\n",
       "       [ 0.26335492, -0.92555649, -0.24203288, -0.12413481],\n",
       "       [-0.58125401, -0.02109478, -0.14089226, -0.80115427],\n",
       "       [-0.56561105, -0.06541577, -0.6338014 ,  0.52354627]])"
      ]
     },
     "execution_count": 13,
     "metadata": {},
     "output_type": "execute_result"
    }
   ],
   "source": [
    "u, s, v=np.linalg.svd(X_std.T)\n",
    "u"
   ]
  },
  {
   "cell_type": "markdown",
   "id": "successful-greenhouse",
   "metadata": {
    "papermill": {
     "duration": 0.045034,
     "end_time": "2022-05-24T16:48:11.311399",
     "exception": false,
     "start_time": "2022-05-24T16:48:11.266365",
     "status": "completed"
    },
    "tags": []
   },
   "source": [
    "# Sorting Eigenpairs\n",
    "The typical goal of a PCA is to reduce the dimensionality of the original feature space by projecting it onto a smaller subspace, where the eigenvectors will form the axes. However, the eigenvectors only define the directions of the new axis, since they have all the same unit length 1, which can confirmed by the following two lines of code"
   ]
  },
  {
   "cell_type": "code",
   "execution_count": 14,
   "id": "informal-assessment",
   "metadata": {
    "execution": {
     "iopub.execute_input": "2022-05-24T16:48:11.373596Z",
     "iopub.status.busy": "2022-05-24T16:48:11.372916Z",
     "iopub.status.idle": "2022-05-24T16:48:11.376110Z",
     "shell.execute_reply": "2022-05-24T16:48:11.376926Z",
     "shell.execute_reply.started": "2022-05-24T16:46:49.683197Z"
    },
    "papermill": {
     "duration": 0.032647,
     "end_time": "2022-05-24T16:48:11.377239",
     "exception": false,
     "start_time": "2022-05-24T16:48:11.344592",
     "status": "completed"
    },
    "tags": []
   },
   "outputs": [
    {
     "name": "stdout",
     "output_type": "stream",
     "text": [
      "Everithing is ok\n"
     ]
    }
   ],
   "source": [
    "for ev in eig_vecs.T:\n",
    "    np.testing.assert_array_almost_equal(1.0, np.linalg.norm(ev))\n",
    "print(\"Everithing is ok\")"
   ]
  },
  {
   "cell_type": "code",
   "execution_count": 15,
   "id": "forty-hanging",
   "metadata": {
    "execution": {
     "iopub.execute_input": "2022-05-24T16:48:11.433685Z",
     "iopub.status.busy": "2022-05-24T16:48:11.432724Z",
     "iopub.status.idle": "2022-05-24T16:48:11.436688Z",
     "shell.execute_reply": "2022-05-24T16:48:11.437195Z",
     "shell.execute_reply.started": "2022-05-24T16:46:49.694241Z"
    },
    "papermill": {
     "duration": 0.033739,
     "end_time": "2022-05-24T16:48:11.437372",
     "exception": false,
     "start_time": "2022-05-24T16:48:11.403633",
     "status": "completed"
    },
    "tags": []
   },
   "outputs": [
    {
     "name": "stdout",
     "output_type": "stream",
     "text": [
      "Eigenvalues in descending order:\n",
      "2.9108180837520528\n",
      "0.921220930707225\n",
      "0.14735327830509573\n",
      "0.02060770723562495\n"
     ]
    }
   ],
   "source": [
    "# Make a list of (eigenvalue, eigenvector) tuples\n",
    "eig_pairs = [(np.abs(eig_vals[i]), eig_vecs[:,i]) for i in range(len(eig_vals))]\n",
    "\n",
    "# Sort the (eigenvalue, eigenvector) tuples from high to low\n",
    "eig_pairs.sort(key=lambda x: x[0], reverse=True)\n",
    "\n",
    "# Visually confirm that the list is correctly sorted by decreasing eigenvalues\n",
    "print('Eigenvalues in descending order:')\n",
    "for i in eig_pairs:\n",
    "    print(i[0])"
   ]
  },
  {
   "cell_type": "markdown",
   "id": "automated-jungle",
   "metadata": {
    "papermill": {
     "duration": 0.023095,
     "end_time": "2022-05-24T16:48:11.484548",
     "exception": false,
     "start_time": "2022-05-24T16:48:11.461453",
     "status": "completed"
    },
    "tags": []
   },
   "source": [
    "# Explained Variance: \n",
    "After sorting the eigenpairs, the next question is “how many principal components are we going to choose for our new feature subspace?” A useful measure is the so-called “explained variance,” which can be calculated from the eigenvalues. The explained variance tells us how much information (variance) can be attributed to each of the principal components."
   ]
  },
  {
   "cell_type": "code",
   "execution_count": 16,
   "id": "enhanced-recovery",
   "metadata": {
    "execution": {
     "iopub.execute_input": "2022-05-24T16:48:11.534116Z",
     "iopub.status.busy": "2022-05-24T16:48:11.533507Z",
     "iopub.status.idle": "2022-05-24T16:48:11.537495Z",
     "shell.execute_reply": "2022-05-24T16:48:11.537935Z",
     "shell.execute_reply.started": "2022-05-24T16:46:49.708087Z"
    },
    "papermill": {
     "duration": 0.030386,
     "end_time": "2022-05-24T16:48:11.538164",
     "exception": false,
     "start_time": "2022-05-24T16:48:11.507778",
     "status": "completed"
    },
    "tags": []
   },
   "outputs": [],
   "source": [
    "tot = sum(eig_vals)\n",
    "var_exp = [(i / tot)*100 for i in sorted(eig_vals, reverse=True)]\n",
    "cum_var_exp = np.cumsum(var_exp)"
   ]
  },
  {
   "cell_type": "code",
   "execution_count": 17,
   "id": "level-endorsement",
   "metadata": {
    "execution": {
     "iopub.execute_input": "2022-05-24T16:48:11.587890Z",
     "iopub.status.busy": "2022-05-24T16:48:11.587275Z",
     "iopub.status.idle": "2022-05-24T16:48:11.779800Z",
     "shell.execute_reply": "2022-05-24T16:48:11.780357Z",
     "shell.execute_reply.started": "2022-05-24T16:46:49.721319Z"
    },
    "papermill": {
     "duration": 0.21905,
     "end_time": "2022-05-24T16:48:11.780530",
     "exception": false,
     "start_time": "2022-05-24T16:48:11.561480",
     "status": "completed"
    },
    "tags": []
   },
   "outputs": [
    {
     "data": {
      "image/png": "[encoded data removed]",
      "text/plain": [
       "<Figure size 432x288 with 1 Axes>"
      ]
     },
     "metadata": {},
     "output_type": "display_data"
    }
   ],
   "source": [
    "with plt.style.context('seaborn-whitegrid'):\n",
    "    plt.figure(figsize=(6, 4))\n",
    "\n",
    "    plt.bar(range(4), var_exp, alpha=0.5, align='center',\n",
    "            label='individual explained variance')\n",
    "    plt.step(range(4), cum_var_exp, where='mid',\n",
    "             label='cumulative explained variance')\n",
    "    plt.ylabel('Explained variance ratio')\n",
    "    plt.xlabel('Principal components')\n",
    "    plt.legend(loc='best')\n",
    "    plt.tight_layout()"
   ]
  },
  {
   "cell_type": "markdown",
   "id": "intermediate-pontiac",
   "metadata": {
    "papermill": {
     "duration": 0.024633,
     "end_time": "2022-05-24T16:48:11.829497",
     "exception": false,
     "start_time": "2022-05-24T16:48:11.804864",
     "status": "completed"
    },
    "tags": []
   },
   "source": [
    "The plot above clearly shows that most of the variance (72.77% of the variance to be precise) can be explained by the first principal component alone. The second principal component still bears some information (23.03%) while the third and fourth principal components can safely be dropped without losing to much information. Together, the first two principal components contain 95.8% of the information."
   ]
  },
  {
   "cell_type": "markdown",
   "id": "tribal-jerusalem",
   "metadata": {
    "papermill": {
     "duration": 0.024132,
     "end_time": "2022-05-24T16:48:11.878359",
     "exception": false,
     "start_time": "2022-05-24T16:48:11.854227",
     "status": "completed"
    },
    "tags": []
   },
   "source": [
    "# Projection Matrix"
   ]
  },
  {
   "cell_type": "markdown",
   "id": "parental-general",
   "metadata": {
    "papermill": {
     "duration": 0.024391,
     "end_time": "2022-05-24T16:48:11.927393",
     "exception": false,
     "start_time": "2022-05-24T16:48:11.903002",
     "status": "completed"
    },
    "tags": []
   },
   "source": [
    "It’s about time to get to the really interesting part: The construction of the projection matrix that will be used to transform the Iris data onto the new feature subspace. Although, the name “projection matrix” has a nice ring to it, it is basically just a matrix of our concatenated top k eigenvectors."
   ]
  },
  {
   "cell_type": "code",
   "execution_count": 18,
   "id": "happy-labor",
   "metadata": {
    "execution": {
     "iopub.execute_input": "2022-05-24T16:48:11.979764Z",
     "iopub.status.busy": "2022-05-24T16:48:11.979160Z",
     "iopub.status.idle": "2022-05-24T16:48:11.984744Z",
     "shell.execute_reply": "2022-05-24T16:48:11.985215Z",
     "shell.execute_reply.started": "2022-05-24T16:46:49.942674Z"
    },
    "papermill": {
     "duration": 0.033173,
     "end_time": "2022-05-24T16:48:11.985382",
     "exception": false,
     "start_time": "2022-05-24T16:48:11.952209",
     "status": "completed"
    },
    "tags": []
   },
   "outputs": [
    {
     "name": "stdout",
     "output_type": "stream",
     "text": [
      "Matrix W:\n",
      " [[ 0.52237162 -0.37231836]\n",
      " [-0.26335492 -0.92555649]\n",
      " [ 0.58125401 -0.02109478]\n",
      " [ 0.56561105 -0.06541577]]\n"
     ]
    }
   ],
   "source": [
    "matrix_w = np.hstack((eig_pairs[0][1].reshape(4,1),\n",
    "                      eig_pairs[1][1].reshape(4,1)))\n",
    "\n",
    "print('Matrix W:\\n', matrix_w)"
   ]
  },
  {
   "cell_type": "markdown",
   "id": "choice-apparatus",
   "metadata": {
    "papermill": {
     "duration": 0.024352,
     "end_time": "2022-05-24T16:48:12.034539",
     "exception": false,
     "start_time": "2022-05-24T16:48:12.010187",
     "status": "completed"
    },
    "tags": []
   },
   "source": [
    "# Projection Onto the New Feature Space\n",
    "n this last step we will use the 4×2-dimensional projection matrix W to transform our samples onto the new subspace via the equation\n",
    "Y=X×W, where Y is a 150×2 matrix of our transformed samples."
   ]
  },
  {
   "cell_type": "code",
   "execution_count": 19,
   "id": "moving-classics",
   "metadata": {
    "execution": {
     "iopub.execute_input": "2022-05-24T16:48:12.087264Z",
     "iopub.status.busy": "2022-05-24T16:48:12.086663Z",
     "iopub.status.idle": "2022-05-24T16:48:12.090426Z",
     "shell.execute_reply": "2022-05-24T16:48:12.090892Z",
     "shell.execute_reply.started": "2022-05-24T16:46:49.953867Z"
    },
    "papermill": {
     "duration": 0.031206,
     "end_time": "2022-05-24T16:48:12.091077",
     "exception": false,
     "start_time": "2022-05-24T16:48:12.059871",
     "status": "completed"
    },
    "tags": []
   },
   "outputs": [],
   "source": [
    "Y = X_std.dot(matrix_w)\n"
   ]
  },
  {
   "cell_type": "code",
   "execution_count": 20,
   "id": "established-period",
   "metadata": {
    "execution": {
     "iopub.execute_input": "2022-05-24T16:48:12.143124Z",
     "iopub.status.busy": "2022-05-24T16:48:12.142525Z",
     "iopub.status.idle": "2022-05-24T16:48:12.399621Z",
     "shell.execute_reply": "2022-05-24T16:48:12.400086Z",
     "shell.execute_reply.started": "2022-05-24T16:46:49.961757Z"
    },
    "papermill": {
     "duration": 0.284688,
     "end_time": "2022-05-24T16:48:12.400254",
     "exception": false,
     "start_time": "2022-05-24T16:48:12.115566",
     "status": "completed"
    },
    "tags": []
   },
   "outputs": [
    {
     "data": {
      "image/png": "[encoded data removed]",
      "text/plain": [
       "<Figure size 432x288 with 1 Axes>"
      ]
     },
     "metadata": {},
     "output_type": "display_data"
    }
   ],
   "source": [
    "with plt.style.context('seaborn-whitegrid'):\n",
    "    plt.figure(figsize=(6, 4))\n",
    "    for lab, col in zip(('Iris-setosa', 'Iris-versicolor', 'Iris-virginica'),\n",
    "                        ('blue', 'red', 'green')):\n",
    "        plt.scatter(Y[y==lab, 0],\n",
    "                    Y[y==lab, 1],\n",
    "                    label=lab,\n",
    "                    c=col)\n",
    "    plt.xlabel('Principal Component 1')\n",
    "    plt.ylabel('Principal Component 2')\n",
    "    plt.legend(loc='lower center')\n",
    "    plt.tight_layout()\n",
    "    plt.show()"
   ]
  },
  {
   "cell_type": "markdown",
   "id": "beginning-tribune",
   "metadata": {
    "papermill": {
     "duration": 0.025285,
     "end_time": "2022-05-24T16:48:12.451355",
     "exception": false,
     "start_time": "2022-05-24T16:48:12.426070",
     "status": "completed"
    },
    "tags": []
   },
   "source": [
    "# Shortcut - PCA in scikit-learn"
   ]
  },
  {
   "cell_type": "code",
   "execution_count": 21,
   "id": "considerable-reaction",
   "metadata": {
    "execution": {
     "iopub.execute_input": "2022-05-24T16:48:12.506097Z",
     "iopub.status.busy": "2022-05-24T16:48:12.505461Z",
     "iopub.status.idle": "2022-05-24T16:48:12.695373Z",
     "shell.execute_reply": "2022-05-24T16:48:12.694597Z",
     "shell.execute_reply.started": "2022-05-24T16:46:50.188996Z"
    },
    "papermill": {
     "duration": 0.218329,
     "end_time": "2022-05-24T16:48:12.695527",
     "exception": false,
     "start_time": "2022-05-24T16:48:12.477198",
     "status": "completed"
    },
    "tags": []
   },
   "outputs": [],
   "source": [
    "from sklearn.decomposition import PCA as sklearnPCA\n",
    "sklearn_pca = sklearnPCA(n_components=2)\n",
    "Y_sklearn = sklearn_pca.fit_transform(X_std)"
   ]
  },
  {
   "cell_type": "code",
   "execution_count": 22,
   "id": "judicial-mongolia",
   "metadata": {
    "execution": {
     "iopub.execute_input": "2022-05-24T16:48:12.768388Z",
     "iopub.status.busy": "2022-05-24T16:48:12.767750Z",
     "iopub.status.idle": "2022-05-24T16:48:13.014868Z",
     "shell.execute_reply": "2022-05-24T16:48:13.015367Z",
     "shell.execute_reply.started": "2022-05-24T16:46:50.410092Z"
    },
    "papermill": {
     "duration": 0.293662,
     "end_time": "2022-05-24T16:48:13.015561",
     "exception": false,
     "start_time": "2022-05-24T16:48:12.721899",
     "status": "completed"
    },
    "tags": []
   },
   "outputs": [
    {
     "data": {
      "image/png": "[encoded data removed]",
      "text/plain": [
       "<Figure size 432x288 with 1 Axes>"
      ]
     },
     "metadata": {},
     "output_type": "display_data"
    }
   ],
   "source": [
    "with plt.style.context('seaborn-whitegrid'):\n",
    "    plt.figure(figsize=(6, 4))\n",
    "    for lab, col in zip(('Iris-setosa', 'Iris-versicolor', 'Iris-virginica'),\n",
    "                        ('blue', 'red', 'green')):\n",
    "        plt.scatter(Y_sklearn[y==lab, 0],\n",
    "                    Y_sklearn[y==lab, 1],\n",
    "                    label=lab,\n",
    "                    c=col)\n",
    "    plt.xlabel('Principal Component 1')\n",
    "    plt.ylabel('Principal Component 2')\n",
    "    plt.legend(loc='upper center')\n",
    "    plt.tight_layout()\n",
    "    plt.show()\n"
   ]
  }
 ],
 "metadata": {
  "kernelspec": {
   "display_name": "Python 3",
   "language": "python",
   "name": "python3"
  },
  "language_info": {
   "codemirror_mode": {
    "name": "ipython",
    "version": 3
   },
   "file_extension": ".py",
   "mimetype": "text/x-python",
   "name": "python",
   "nbconvert_exporter": "python",
   "pygments_lexer": "ipython3",
   "version": "3.7.10"
  },
  "papermill": {
   "default_parameters": {},
   "duration": 12.728151,
   "end_time": "2022-05-24T16:48:13.752180",
   "environment_variables": {},
   "exception": null,
   "input_path": "__notebook__.ipynb",
   "output_path": "__notebook__.ipynb",
   "parameters": {},
   "start_time": "2022-05-24T16:48:01.024029",
   "version": "2.3.3"
  }
 },
 "nbformat": 4,
 "nbformat_minor": 5
}
