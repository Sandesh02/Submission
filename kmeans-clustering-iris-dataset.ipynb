{
 "cells": [
  {
   "cell_type": "markdown",
   "metadata": {},
   "source": [
    "### importing necessary libaries"
   ]
  },
  {
   "cell_type": "code",
   "execution_count": 1,
   "metadata": {
    "execution": {
     "iopub.execute_input": "2022-05-24T16:30:44.277818Z",
     "iopub.status.busy": "2022-05-24T16:30:44.277066Z",
     "iopub.status.idle": "2022-05-24T16:30:46.781006Z",
     "shell.execute_reply": "2022-05-24T16:30:46.780163Z",
     "shell.execute_reply.started": "2022-05-24T16:30:44.277748Z"
    }
   },
   "outputs": [],
   "source": [
    "import pandas as pd\n",
    "import numpy as np\n",
    "import matplotlib.pyplot as plt  \n",
    "import plotly.graph_objs as go\n",
    "from plotly.graph_objs import Figure, Data\n",
    "from sklearn.preprocessing import StandardScaler\n",
    "from sklearn.decomposition import PCA\n",
    "from sklearn.cluster import KMeans "
   ]
  },
  {
   "cell_type": "markdown",
   "metadata": {},
   "source": [
    "#### reading iris dataset csv file"
   ]
  },
  {
   "cell_type": "code",
   "execution_count": 2,
   "metadata": {
    "execution": {
     "iopub.execute_input": "2022-05-24T16:30:46.785622Z",
     "iopub.status.busy": "2022-05-24T16:30:46.785206Z",
     "iopub.status.idle": "2022-05-24T16:30:46.809790Z",
     "shell.execute_reply": "2022-05-24T16:30:46.808873Z",
     "shell.execute_reply.started": "2022-05-24T16:30:46.785580Z"
    }
   },
   "outputs": [],
   "source": [
    "dataset = pd.read_csv('../input/iris-flower-dataset/IRIS.csv')"
   ]
  },
  {
   "cell_type": "code",
   "execution_count": 3,
   "metadata": {
    "execution": {
     "iopub.execute_input": "2022-05-24T16:30:46.811677Z",
     "iopub.status.busy": "2022-05-24T16:30:46.811397Z",
     "iopub.status.idle": "2022-05-24T16:30:46.838256Z",
     "shell.execute_reply": "2022-05-24T16:30:46.837079Z",
     "shell.execute_reply.started": "2022-05-24T16:30:46.811628Z"
    },
    "scrolled": true
   },
   "outputs": [
    {
     "data": {
      "text/html": [
       "<div>\n",
       "<style scoped>\n",
       "    .dataframe tbody tr th:only-of-type {\n",
       "        vertical-align: middle;\n",
       "    }\n",
       "\n",
       "    .dataframe tbody tr th {\n",
       "        vertical-align: top;\n",
       "    }\n",
       "\n",
       "    .dataframe thead th {\n",
       "        text-align: right;\n",
       "    }\n",
       "</style>\n",
       "<table border=\"1\" class=\"dataframe\">\n",
       "  <thead>\n",
       "    <tr style=\"text-align: right;\">\n",
       "      <th></th>\n",
       "      <th>sepal_length</th>\n",
       "      <th>sepal_width</th>\n",
       "      <th>petal_length</th>\n",
       "      <th>petal_width</th>\n",
       "      <th>species</th>\n",
       "    </tr>\n",
       "  </thead>\n",
       "  <tbody>\n",
       "    <tr>\n",
       "      <td>0</td>\n",
       "      <td>5.1</td>\n",
       "      <td>3.5</td>\n",
       "      <td>1.4</td>\n",
       "      <td>0.2</td>\n",
       "      <td>Iris-setosa</td>\n",
       "    </tr>\n",
       "    <tr>\n",
       "      <td>1</td>\n",
       "      <td>4.9</td>\n",
       "      <td>3.0</td>\n",
       "      <td>1.4</td>\n",
       "      <td>0.2</td>\n",
       "      <td>Iris-setosa</td>\n",
       "    </tr>\n",
       "    <tr>\n",
       "      <td>2</td>\n",
       "      <td>4.7</td>\n",
       "      <td>3.2</td>\n",
       "      <td>1.3</td>\n",
       "      <td>0.2</td>\n",
       "      <td>Iris-setosa</td>\n",
       "    </tr>\n",
       "    <tr>\n",
       "      <td>3</td>\n",
       "      <td>4.6</td>\n",
       "      <td>3.1</td>\n",
       "      <td>1.5</td>\n",
       "      <td>0.2</td>\n",
       "      <td>Iris-setosa</td>\n",
       "    </tr>\n",
       "    <tr>\n",
       "      <td>4</td>\n",
       "      <td>5.0</td>\n",
       "      <td>3.6</td>\n",
       "      <td>1.4</td>\n",
       "      <td>0.2</td>\n",
       "      <td>Iris-setosa</td>\n",
       "    </tr>\n",
       "  </tbody>\n",
       "</table>\n",
       "</div>"
      ],
      "text/plain": [
       "   sepal_length  sepal_width  petal_length  petal_width      species\n",
       "0           5.1          3.5           1.4          0.2  Iris-setosa\n",
       "1           4.9          3.0           1.4          0.2  Iris-setosa\n",
       "2           4.7          3.2           1.3          0.2  Iris-setosa\n",
       "3           4.6          3.1           1.5          0.2  Iris-setosa\n",
       "4           5.0          3.6           1.4          0.2  Iris-setosa"
      ]
     },
     "execution_count": 3,
     "metadata": {},
     "output_type": "execute_result"
    }
   ],
   "source": [
    "dataset.head()"
   ]
  },
  {
   "cell_type": "markdown",
   "metadata": {},
   "source": [
    "#### removing species column"
   ]
  },
  {
   "cell_type": "code",
   "execution_count": 4,
   "metadata": {
    "execution": {
     "iopub.execute_input": "2022-05-24T16:30:46.841448Z",
     "iopub.status.busy": "2022-05-24T16:30:46.840952Z",
     "iopub.status.idle": "2022-05-24T16:30:46.849686Z",
     "shell.execute_reply": "2022-05-24T16:30:46.848697Z",
     "shell.execute_reply.started": "2022-05-24T16:30:46.841401Z"
    }
   },
   "outputs": [],
   "source": [
    "dataset.dropna(inplace=True)\n",
    "dataset.drop('species', axis = 1 , inplace=True)"
   ]
  },
  {
   "cell_type": "code",
   "execution_count": 5,
   "metadata": {
    "execution": {
     "iopub.execute_input": "2022-05-24T16:30:46.853040Z",
     "iopub.status.busy": "2022-05-24T16:30:46.852504Z",
     "iopub.status.idle": "2022-05-24T16:30:46.871063Z",
     "shell.execute_reply": "2022-05-24T16:30:46.870149Z",
     "shell.execute_reply.started": "2022-05-24T16:30:46.852957Z"
    },
    "scrolled": true
   },
   "outputs": [
    {
     "data": {
      "text/html": [
       "<div>\n",
       "<style scoped>\n",
       "    .dataframe tbody tr th:only-of-type {\n",
       "        vertical-align: middle;\n",
       "    }\n",
       "\n",
       "    .dataframe tbody tr th {\n",
       "        vertical-align: top;\n",
       "    }\n",
       "\n",
       "    .dataframe thead th {\n",
       "        text-align: right;\n",
       "    }\n",
       "</style>\n",
       "<table border=\"1\" class=\"dataframe\">\n",
       "  <thead>\n",
       "    <tr style=\"text-align: right;\">\n",
       "      <th></th>\n",
       "      <th>sepal_length</th>\n",
       "      <th>sepal_width</th>\n",
       "      <th>petal_length</th>\n",
       "      <th>petal_width</th>\n",
       "    </tr>\n",
       "  </thead>\n",
       "  <tbody>\n",
       "    <tr>\n",
       "      <td>0</td>\n",
       "      <td>5.1</td>\n",
       "      <td>3.5</td>\n",
       "      <td>1.4</td>\n",
       "      <td>0.2</td>\n",
       "    </tr>\n",
       "    <tr>\n",
       "      <td>1</td>\n",
       "      <td>4.9</td>\n",
       "      <td>3.0</td>\n",
       "      <td>1.4</td>\n",
       "      <td>0.2</td>\n",
       "    </tr>\n",
       "    <tr>\n",
       "      <td>2</td>\n",
       "      <td>4.7</td>\n",
       "      <td>3.2</td>\n",
       "      <td>1.3</td>\n",
       "      <td>0.2</td>\n",
       "    </tr>\n",
       "    <tr>\n",
       "      <td>3</td>\n",
       "      <td>4.6</td>\n",
       "      <td>3.1</td>\n",
       "      <td>1.5</td>\n",
       "      <td>0.2</td>\n",
       "    </tr>\n",
       "    <tr>\n",
       "      <td>4</td>\n",
       "      <td>5.0</td>\n",
       "      <td>3.6</td>\n",
       "      <td>1.4</td>\n",
       "      <td>0.2</td>\n",
       "    </tr>\n",
       "  </tbody>\n",
       "</table>\n",
       "</div>"
      ],
      "text/plain": [
       "   sepal_length  sepal_width  petal_length  petal_width\n",
       "0           5.1          3.5           1.4          0.2\n",
       "1           4.9          3.0           1.4          0.2\n",
       "2           4.7          3.2           1.3          0.2\n",
       "3           4.6          3.1           1.5          0.2\n",
       "4           5.0          3.6           1.4          0.2"
      ]
     },
     "execution_count": 5,
     "metadata": {},
     "output_type": "execute_result"
    }
   ],
   "source": [
    "dataset.head()"
   ]
  },
  {
   "cell_type": "markdown",
   "metadata": {},
   "source": [
    "#### plotting all the features in a histogram"
   ]
  },
  {
   "cell_type": "code",
   "execution_count": 6,
   "metadata": {
    "execution": {
     "iopub.execute_input": "2022-05-24T16:30:46.875141Z",
     "iopub.status.busy": "2022-05-24T16:30:46.874843Z",
     "iopub.status.idle": "2022-05-24T16:30:48.494043Z",
     "shell.execute_reply": "2022-05-24T16:30:48.493246Z",
     "shell.execute_reply.started": "2022-05-24T16:30:46.875086Z"
    }
   },
   "outputs": [
    {
     "data": {
      "text/html": [
       "        <script type=\"text/javascript\">\n",
       "        window.PlotlyConfig = {MathJaxConfig: 'local'};\n",
       "        if (window.MathJax) {MathJax.Hub.Config({SVG: {font: \"STIX-Web\"}});}\n",
       "        if (typeof require !== 'undefined') {\n",
       "        require.undef(\"plotly\");\n",
       "        requirejs.config({\n",
       "            paths: {\n",
       "                'plotly': ['https://cdn.plot.ly/plotly-latest.min']\n",
       "            }\n",
       "        });\n",
       "        require(['plotly'], function(Plotly) {\n",
       "            window._Plotly = Plotly;\n",
       "        });\n",
       "        }\n",
       "        </script>\n",
       "        "
      ]
     },
     "metadata": {},
     "output_type": "display_data"
    },
    {
     "data": {
      "text/html": [
       "<div>\n",
       "        \n",
       "        \n",
       "            <div id=\"12fa31bb-ed9f-43f5-93bd-5c091f8e768f\" class=\"plotly-graph-div\" style=\"height:525px; width:100%;\"></div>\n",
       "            <script type=\"text/javascript\">\n",
       "                require([\"plotly\"], function(Plotly) {\n",
       "                    window.PLOTLYENV=window.PLOTLYENV || {};\n",
       "                    \n",
       "                if (document.getElementById(\"12fa31bb-ed9f-43f5-93bd-5c091f8e768f\")) {\n",
       "                    Plotly.newPlot(\n",
       "                        '12fa31bb-ed9f-43f5-93bd-5c091f8e768f',\n",
       "                        [{\"name\": \"sepal_length\", \"opacity\": 0.75, \"type\": \"histogram\", \"x\": [5.1, 4.9, 4.7, 4.6, 5.0, 5.4, 4.6, 5.0, 4.4, 4.9, 5.4, 4.8, 4.8, 4.3, 5.8, 5.7, 5.4, 5.1, 5.7, 5.1, 5.4, 5.1, 4.6, 5.1, 4.8, 5.0, 5.0, 5.2, 5.2, 4.7, 4.8, 5.4, 5.2, 5.5, 4.9, 5.0, 5.5, 4.9, 4.4, 5.1, 5.0, 4.5, 4.4, 5.0, 5.1, 4.8, 5.1, 4.6, 5.3, 5.0, 7.0, 6.4, 6.9, 5.5, 6.5, 5.7, 6.3, 4.9, 6.6, 5.2, 5.0, 5.9, 6.0, 6.1, 5.6, 6.7, 5.6, 5.8, 6.2, 5.6, 5.9, 6.1, 6.3, 6.1, 6.4, 6.6, 6.8, 6.7, 6.0, 5.7, 5.5, 5.5, 5.8, 6.0, 5.4, 6.0, 6.7, 6.3, 5.6, 5.5, 5.5, 6.1, 5.8, 5.0, 5.6, 5.7, 5.7, 6.2, 5.1, 5.7, 6.3, 5.8, 7.1, 6.3, 6.5, 7.6, 4.9, 7.3, 6.7, 7.2, 6.5, 6.4, 6.8, 5.7, 5.8, 6.4, 6.5, 7.7, 7.7, 6.0, 6.9, 5.6, 7.7, 6.3, 6.7, 7.2, 6.2, 6.1, 6.4, 7.2, 7.4, 7.9, 6.4, 6.3, 6.1, 7.7, 6.3, 6.4, 6.0, 6.9, 6.7, 6.9, 5.8, 6.8, 6.7, 6.7, 6.3, 6.5, 6.2, 5.9]}, {\"name\": \"sepal_width\", \"opacity\": 0.75, \"type\": \"histogram\", \"x\": [3.5, 3.0, 3.2, 3.1, 3.6, 3.9, 3.4, 3.4, 2.9, 3.1, 3.7, 3.4, 3.0, 3.0, 4.0, 4.4, 3.9, 3.5, 3.8, 3.8, 3.4, 3.7, 3.6, 3.3, 3.4, 3.0, 3.4, 3.5, 3.4, 3.2, 3.1, 3.4, 4.1, 4.2, 3.1, 3.2, 3.5, 3.1, 3.0, 3.4, 3.5, 2.3, 3.2, 3.5, 3.8, 3.0, 3.8, 3.2, 3.7, 3.3, 3.2, 3.2, 3.1, 2.3, 2.8, 2.8, 3.3, 2.4, 2.9, 2.7, 2.0, 3.0, 2.2, 2.9, 2.9, 3.1, 3.0, 2.7, 2.2, 2.5, 3.2, 2.8, 2.5, 2.8, 2.9, 3.0, 2.8, 3.0, 2.9, 2.6, 2.4, 2.4, 2.7, 2.7, 3.0, 3.4, 3.1, 2.3, 3.0, 2.5, 2.6, 3.0, 2.6, 2.3, 2.7, 3.0, 2.9, 2.9, 2.5, 2.8, 3.3, 2.7, 3.0, 2.9, 3.0, 3.0, 2.5, 2.9, 2.5, 3.6, 3.2, 2.7, 3.0, 2.5, 2.8, 3.2, 3.0, 3.8, 2.6, 2.2, 3.2, 2.8, 2.8, 2.7, 3.3, 3.2, 2.8, 3.0, 2.8, 3.0, 2.8, 3.8, 2.8, 2.8, 2.6, 3.0, 3.4, 3.1, 3.0, 3.1, 3.1, 3.1, 2.7, 3.2, 3.3, 3.0, 2.5, 3.0, 3.4, 3.0]}, {\"name\": \"petal_length\", \"opacity\": 0.75, \"type\": \"histogram\", \"x\": [1.4, 1.4, 1.3, 1.5, 1.4, 1.7, 1.4, 1.5, 1.4, 1.5, 1.5, 1.6, 1.4, 1.1, 1.2, 1.5, 1.3, 1.4, 1.7, 1.5, 1.7, 1.5, 1.0, 1.7, 1.9, 1.6, 1.6, 1.5, 1.4, 1.6, 1.6, 1.5, 1.5, 1.4, 1.5, 1.2, 1.3, 1.5, 1.3, 1.5, 1.3, 1.3, 1.3, 1.6, 1.9, 1.4, 1.6, 1.4, 1.5, 1.4, 4.7, 4.5, 4.9, 4.0, 4.6, 4.5, 4.7, 3.3, 4.6, 3.9, 3.5, 4.2, 4.0, 4.7, 3.6, 4.4, 4.5, 4.1, 4.5, 3.9, 4.8, 4.0, 4.9, 4.7, 4.3, 4.4, 4.8, 5.0, 4.5, 3.5, 3.8, 3.7, 3.9, 5.1, 4.5, 4.5, 4.7, 4.4, 4.1, 4.0, 4.4, 4.6, 4.0, 3.3, 4.2, 4.2, 4.2, 4.3, 3.0, 4.1, 6.0, 5.1, 5.9, 5.6, 5.8, 6.6, 4.5, 6.3, 5.8, 6.1, 5.1, 5.3, 5.5, 5.0, 5.1, 5.3, 5.5, 6.7, 6.9, 5.0, 5.7, 4.9, 6.7, 4.9, 5.7, 6.0, 4.8, 4.9, 5.6, 5.8, 6.1, 6.4, 5.6, 5.1, 5.6, 6.1, 5.6, 5.5, 4.8, 5.4, 5.6, 5.1, 5.1, 5.9, 5.7, 5.2, 5.0, 5.2, 5.4, 5.1]}, {\"name\": \"petal_width\", \"opacity\": 0.75, \"type\": \"histogram\", \"x\": [0.2, 0.2, 0.2, 0.2, 0.2, 0.4, 0.3, 0.2, 0.2, 0.1, 0.2, 0.2, 0.1, 0.1, 0.2, 0.4, 0.4, 0.3, 0.3, 0.3, 0.2, 0.4, 0.2, 0.5, 0.2, 0.2, 0.4, 0.2, 0.2, 0.2, 0.2, 0.4, 0.1, 0.2, 0.1, 0.2, 0.2, 0.1, 0.2, 0.2, 0.3, 0.3, 0.2, 0.6, 0.4, 0.3, 0.2, 0.2, 0.2, 0.2, 1.4, 1.5, 1.5, 1.3, 1.5, 1.3, 1.6, 1.0, 1.3, 1.4, 1.0, 1.5, 1.0, 1.4, 1.3, 1.4, 1.5, 1.0, 1.5, 1.1, 1.8, 1.3, 1.5, 1.2, 1.3, 1.4, 1.4, 1.7, 1.5, 1.0, 1.1, 1.0, 1.2, 1.6, 1.5, 1.6, 1.5, 1.3, 1.3, 1.3, 1.2, 1.4, 1.2, 1.0, 1.3, 1.2, 1.3, 1.3, 1.1, 1.3, 2.5, 1.9, 2.1, 1.8, 2.2, 2.1, 1.7, 1.8, 1.8, 2.5, 2.0, 1.9, 2.1, 2.0, 2.4, 2.3, 1.8, 2.2, 2.3, 1.5, 2.3, 2.0, 2.0, 1.8, 2.1, 1.8, 1.8, 1.8, 2.1, 1.6, 1.9, 2.0, 2.2, 1.5, 1.4, 2.3, 2.4, 1.8, 1.8, 2.1, 2.4, 2.3, 1.9, 2.3, 2.5, 2.3, 1.9, 2.0, 2.3, 1.8]}],\n",
       "                        {\"barmode\": \"overlay\", \"template\": {\"data\": {\"bar\": [{\"error_x\": {\"color\": \"#2a3f5f\"}, \"error_y\": {\"color\": \"#2a3f5f\"}, \"marker\": {\"line\": {\"color\": \"#E5ECF6\", \"width\": 0.5}}, \"type\": \"bar\"}], \"barpolar\": [{\"marker\": {\"line\": {\"color\": \"#E5ECF6\", \"width\": 0.5}}, \"type\": \"barpolar\"}], \"carpet\": [{\"aaxis\": {\"endlinecolor\": \"#2a3f5f\", \"gridcolor\": \"white\", \"linecolor\": \"white\", \"minorgridcolor\": \"white\", \"startlinecolor\": \"#2a3f5f\"}, \"baxis\": {\"endlinecolor\": \"#2a3f5f\", \"gridcolor\": \"white\", \"linecolor\": \"white\", \"minorgridcolor\": \"white\", \"startlinecolor\": \"#2a3f5f\"}, \"type\": \"carpet\"}], \"choropleth\": [{\"colorbar\": {\"outlinewidth\": 0, \"ticks\": \"\"}, \"type\": \"choropleth\"}], \"contour\": [{\"colorbar\": {\"outlinewidth\": 0, \"ticks\": \"\"}, \"colorscale\": [[0.0, \"#0d0887\"], [0.1111111111111111, \"#46039f\"], [0.2222222222222222, \"#7201a8\"], [0.3333333333333333, \"#9c179e\"], [0.4444444444444444, \"#bd3786\"], [0.5555555555555556, \"#d8576b\"], [0.6666666666666666, \"#ed7953\"], [0.7777777777777778, \"#fb9f3a\"], [0.8888888888888888, \"#fdca26\"], [1.0, \"#f0f921\"]], \"type\": \"contour\"}], \"contourcarpet\": [{\"colorbar\": {\"outlinewidth\": 0, \"ticks\": \"\"}, \"type\": \"contourcarpet\"}], \"heatmap\": [{\"colorbar\": {\"outlinewidth\": 0, \"ticks\": \"\"}, \"colorscale\": [[0.0, \"#0d0887\"], [0.1111111111111111, \"#46039f\"], [0.2222222222222222, \"#7201a8\"], [0.3333333333333333, \"#9c179e\"], [0.4444444444444444, \"#bd3786\"], [0.5555555555555556, \"#d8576b\"], [0.6666666666666666, \"#ed7953\"], [0.7777777777777778, \"#fb9f3a\"], [0.8888888888888888, \"#fdca26\"], [1.0, \"#f0f921\"]], \"type\": \"heatmap\"}], \"heatmapgl\": [{\"colorbar\": {\"outlinewidth\": 0, \"ticks\": \"\"}, \"colorscale\": [[0.0, \"#0d0887\"], [0.1111111111111111, \"#46039f\"], [0.2222222222222222, \"#7201a8\"], [0.3333333333333333, \"#9c179e\"], [0.4444444444444444, \"#bd3786\"], [0.5555555555555556, \"#d8576b\"], [0.6666666666666666, \"#ed7953\"], [0.7777777777777778, \"#fb9f3a\"], [0.8888888888888888, \"#fdca26\"], [1.0, \"#f0f921\"]], \"type\": \"heatmapgl\"}], \"histogram\": [{\"marker\": {\"colorbar\": {\"outlinewidth\": 0, \"ticks\": \"\"}}, \"type\": \"histogram\"}], \"histogram2d\": [{\"colorbar\": {\"outlinewidth\": 0, \"ticks\": \"\"}, \"colorscale\": [[0.0, \"#0d0887\"], [0.1111111111111111, \"#46039f\"], [0.2222222222222222, \"#7201a8\"], [0.3333333333333333, \"#9c179e\"], [0.4444444444444444, \"#bd3786\"], [0.5555555555555556, \"#d8576b\"], [0.6666666666666666, \"#ed7953\"], [0.7777777777777778, \"#fb9f3a\"], [0.8888888888888888, \"#fdca26\"], [1.0, \"#f0f921\"]], \"type\": \"histogram2d\"}], \"histogram2dcontour\": [{\"colorbar\": {\"outlinewidth\": 0, \"ticks\": \"\"}, \"colorscale\": [[0.0, \"#0d0887\"], [0.1111111111111111, \"#46039f\"], [0.2222222222222222, \"#7201a8\"], [0.3333333333333333, \"#9c179e\"], [0.4444444444444444, \"#bd3786\"], [0.5555555555555556, \"#d8576b\"], [0.6666666666666666, \"#ed7953\"], [0.7777777777777778, \"#fb9f3a\"], [0.8888888888888888, \"#fdca26\"], [1.0, \"#f0f921\"]], \"type\": \"histogram2dcontour\"}], \"mesh3d\": [{\"colorbar\": {\"outlinewidth\": 0, \"ticks\": \"\"}, \"type\": \"mesh3d\"}], \"parcoords\": [{\"line\": {\"colorbar\": {\"outlinewidth\": 0, \"ticks\": \"\"}}, \"type\": \"parcoords\"}], \"scatter\": [{\"marker\": {\"colorbar\": {\"outlinewidth\": 0, \"ticks\": \"\"}}, \"type\": \"scatter\"}], \"scatter3d\": [{\"line\": {\"colorbar\": {\"outlinewidth\": 0, \"ticks\": \"\"}}, \"marker\": {\"colorbar\": {\"outlinewidth\": 0, \"ticks\": \"\"}}, \"type\": \"scatter3d\"}], \"scattercarpet\": [{\"marker\": {\"colorbar\": {\"outlinewidth\": 0, \"ticks\": \"\"}}, \"type\": \"scattercarpet\"}], \"scattergeo\": [{\"marker\": {\"colorbar\": {\"outlinewidth\": 0, \"ticks\": \"\"}}, \"type\": \"scattergeo\"}], \"scattergl\": [{\"marker\": {\"colorbar\": {\"outlinewidth\": 0, \"ticks\": \"\"}}, \"type\": \"scattergl\"}], \"scattermapbox\": [{\"marker\": {\"colorbar\": {\"outlinewidth\": 0, \"ticks\": \"\"}}, \"type\": \"scattermapbox\"}], \"scatterpolar\": [{\"marker\": {\"colorbar\": {\"outlinewidth\": 0, \"ticks\": \"\"}}, \"type\": \"scatterpolar\"}], \"scatterpolargl\": [{\"marker\": {\"colorbar\": {\"outlinewidth\": 0, \"ticks\": \"\"}}, \"type\": \"scatterpolargl\"}], \"scatterternary\": [{\"marker\": {\"colorbar\": {\"outlinewidth\": 0, \"ticks\": \"\"}}, \"type\": \"scatterternary\"}], \"surface\": [{\"colorbar\": {\"outlinewidth\": 0, \"ticks\": \"\"}, \"colorscale\": [[0.0, \"#0d0887\"], [0.1111111111111111, \"#46039f\"], [0.2222222222222222, \"#7201a8\"], [0.3333333333333333, \"#9c179e\"], [0.4444444444444444, \"#bd3786\"], [0.5555555555555556, \"#d8576b\"], [0.6666666666666666, \"#ed7953\"], [0.7777777777777778, \"#fb9f3a\"], [0.8888888888888888, \"#fdca26\"], [1.0, \"#f0f921\"]], \"type\": \"surface\"}], \"table\": [{\"cells\": {\"fill\": {\"color\": \"#EBF0F8\"}, \"line\": {\"color\": \"white\"}}, \"header\": {\"fill\": {\"color\": \"#C8D4E3\"}, \"line\": {\"color\": \"white\"}}, \"type\": \"table\"}]}, \"layout\": {\"annotationdefaults\": {\"arrowcolor\": \"#2a3f5f\", \"arrowhead\": 0, \"arrowwidth\": 1}, \"colorscale\": {\"diverging\": [[0, \"#8e0152\"], [0.1, \"#c51b7d\"], [0.2, \"#de77ae\"], [0.3, \"#f1b6da\"], [0.4, \"#fde0ef\"], [0.5, \"#f7f7f7\"], [0.6, \"#e6f5d0\"], [0.7, \"#b8e186\"], [0.8, \"#7fbc41\"], [0.9, \"#4d9221\"], [1, \"#276419\"]], \"sequential\": [[0.0, \"#0d0887\"], [0.1111111111111111, \"#46039f\"], [0.2222222222222222, \"#7201a8\"], [0.3333333333333333, \"#9c179e\"], [0.4444444444444444, \"#bd3786\"], [0.5555555555555556, \"#d8576b\"], [0.6666666666666666, \"#ed7953\"], [0.7777777777777778, \"#fb9f3a\"], [0.8888888888888888, \"#fdca26\"], [1.0, \"#f0f921\"]], \"sequentialminus\": [[0.0, \"#0d0887\"], [0.1111111111111111, \"#46039f\"], [0.2222222222222222, \"#7201a8\"], [0.3333333333333333, \"#9c179e\"], [0.4444444444444444, \"#bd3786\"], [0.5555555555555556, \"#d8576b\"], [0.6666666666666666, \"#ed7953\"], [0.7777777777777778, \"#fb9f3a\"], [0.8888888888888888, \"#fdca26\"], [1.0, \"#f0f921\"]]}, \"colorway\": [\"#636efa\", \"#EF553B\", \"#00cc96\", \"#ab63fa\", \"#FFA15A\", \"#19d3f3\", \"#FF6692\", \"#B6E880\", \"#FF97FF\", \"#FECB52\"], \"font\": {\"color\": \"#2a3f5f\"}, \"geo\": {\"bgcolor\": \"white\", \"lakecolor\": \"white\", \"landcolor\": \"#E5ECF6\", \"showlakes\": true, \"showland\": true, \"subunitcolor\": \"white\"}, \"hoverlabel\": {\"align\": \"left\"}, \"hovermode\": \"closest\", \"mapbox\": {\"style\": \"light\"}, \"paper_bgcolor\": \"white\", \"plot_bgcolor\": \"#E5ECF6\", \"polar\": {\"angularaxis\": {\"gridcolor\": \"white\", \"linecolor\": \"white\", \"ticks\": \"\"}, \"bgcolor\": \"#E5ECF6\", \"radialaxis\": {\"gridcolor\": \"white\", \"linecolor\": \"white\", \"ticks\": \"\"}}, \"scene\": {\"xaxis\": {\"backgroundcolor\": \"#E5ECF6\", \"gridcolor\": \"white\", \"gridwidth\": 2, \"linecolor\": \"white\", \"showbackground\": true, \"ticks\": \"\", \"zerolinecolor\": \"white\"}, \"yaxis\": {\"backgroundcolor\": \"#E5ECF6\", \"gridcolor\": \"white\", \"gridwidth\": 2, \"linecolor\": \"white\", \"showbackground\": true, \"ticks\": \"\", \"zerolinecolor\": \"white\"}, \"zaxis\": {\"backgroundcolor\": \"#E5ECF6\", \"gridcolor\": \"white\", \"gridwidth\": 2, \"linecolor\": \"white\", \"showbackground\": true, \"ticks\": \"\", \"zerolinecolor\": \"white\"}}, \"shapedefaults\": {\"line\": {\"color\": \"#2a3f5f\"}}, \"ternary\": {\"aaxis\": {\"gridcolor\": \"white\", \"linecolor\": \"white\", \"ticks\": \"\"}, \"baxis\": {\"gridcolor\": \"white\", \"linecolor\": \"white\", \"ticks\": \"\"}, \"bgcolor\": \"#E5ECF6\", \"caxis\": {\"gridcolor\": \"white\", \"linecolor\": \"white\", \"ticks\": \"\"}}, \"title\": {\"x\": 0.05}, \"xaxis\": {\"automargin\": true, \"gridcolor\": \"white\", \"linecolor\": \"white\", \"ticks\": \"\", \"zerolinecolor\": \"white\", \"zerolinewidth\": 2}, \"yaxis\": {\"automargin\": true, \"gridcolor\": \"white\", \"linecolor\": \"white\", \"ticks\": \"\", \"zerolinecolor\": \"white\", \"zerolinewidth\": 2}}}},\n",
       "                        {\"responsive\": true}\n",
       "                    ).then(function(){\n",
       "                            \n",
       "var gd = document.getElementById('12fa31bb-ed9f-43f5-93bd-5c091f8e768f');\n",
       "var x = new MutationObserver(function (mutations, observer) {{\n",
       "        var display = window.getComputedStyle(gd).display;\n",
       "        if (!display || display === 'none') {{\n",
       "            console.log([gd, 'removed!']);\n",
       "            Plotly.purge(gd);\n",
       "            observer.disconnect();\n",
       "        }}\n",
       "}});\n",
       "\n",
       "// Listen for the removal of the full notebook cells\n",
       "var notebookContainer = gd.closest('#notebook-container');\n",
       "if (notebookContainer) {{\n",
       "    x.observe(notebookContainer, {childList: true});\n",
       "}}\n",
       "\n",
       "// Listen for the clearing of the current output cell\n",
       "var outputEl = gd.closest('.output');\n",
       "if (outputEl) {{\n",
       "    x.observe(outputEl, {childList: true});\n",
       "}}\n",
       "\n",
       "                        })\n",
       "                };\n",
       "                });\n",
       "            </script>\n",
       "        </div>"
      ]
     },
     "metadata": {},
     "output_type": "display_data"
    }
   ],
   "source": [
    "fig = go.Figure()\n",
    "fig.add_trace(go.Histogram(x=dataset['sepal_length'], name='sepal_length'))\n",
    "fig.add_trace(go.Histogram(x=dataset['sepal_width'], name='sepal_width'))\n",
    "fig.add_trace(go.Histogram(x=dataset['petal_length'], name='petal_length'))\n",
    "fig.add_trace(go.Histogram(x=dataset['petal_width'], name='petal_width'))\n",
    "\n",
    "# Overlay histograms\n",
    "fig.layout.update(barmode='overlay')\n",
    "# Reduce opacity to see histograms\n",
    "fig.update_traces(opacity=0.75)\n",
    "fig.show()"
   ]
  },
  {
   "cell_type": "markdown",
   "metadata": {},
   "source": [
    "##### standardizing the dataset to bring down into same scale"
   ]
  },
  {
   "cell_type": "code",
   "execution_count": 7,
   "metadata": {
    "execution": {
     "iopub.execute_input": "2022-05-24T16:30:48.495575Z",
     "iopub.status.busy": "2022-05-24T16:30:48.495335Z",
     "iopub.status.idle": "2022-05-24T16:30:48.499443Z",
     "shell.execute_reply": "2022-05-24T16:30:48.498479Z",
     "shell.execute_reply.started": "2022-05-24T16:30:48.495535Z"
    }
   },
   "outputs": [],
   "source": [
    "sd = StandardScaler()"
   ]
  },
  {
   "cell_type": "code",
   "execution_count": 8,
   "metadata": {
    "execution": {
     "iopub.execute_input": "2022-05-24T16:30:48.500931Z",
     "iopub.status.busy": "2022-05-24T16:30:48.500693Z",
     "iopub.status.idle": "2022-05-24T16:30:48.514447Z",
     "shell.execute_reply": "2022-05-24T16:30:48.513397Z",
     "shell.execute_reply.started": "2022-05-24T16:30:48.500890Z"
    }
   },
   "outputs": [],
   "source": [
    "scaled_data = sd.fit_transform(dataset)"
   ]
  },
  {
   "cell_type": "code",
   "execution_count": 9,
   "metadata": {
    "execution": {
     "iopub.execute_input": "2022-05-24T16:30:48.516384Z",
     "iopub.status.busy": "2022-05-24T16:30:48.515829Z",
     "iopub.status.idle": "2022-05-24T16:30:48.524895Z",
     "shell.execute_reply": "2022-05-24T16:30:48.524068Z",
     "shell.execute_reply.started": "2022-05-24T16:30:48.516324Z"
    }
   },
   "outputs": [],
   "source": [
    "dataset = pd.DataFrame(scaled_data, columns=dataset.columns)"
   ]
  },
  {
   "cell_type": "code",
   "execution_count": 10,
   "metadata": {
    "execution": {
     "iopub.execute_input": "2022-05-24T16:30:48.526740Z",
     "iopub.status.busy": "2022-05-24T16:30:48.526213Z",
     "iopub.status.idle": "2022-05-24T16:30:48.544537Z",
     "shell.execute_reply": "2022-05-24T16:30:48.543757Z",
     "shell.execute_reply.started": "2022-05-24T16:30:48.526682Z"
    },
    "scrolled": true
   },
   "outputs": [
    {
     "data": {
      "text/html": [
       "<div>\n",
       "<style scoped>\n",
       "    .dataframe tbody tr th:only-of-type {\n",
       "        vertical-align: middle;\n",
       "    }\n",
       "\n",
       "    .dataframe tbody tr th {\n",
       "        vertical-align: top;\n",
       "    }\n",
       "\n",
       "    .dataframe thead th {\n",
       "        text-align: right;\n",
       "    }\n",
       "</style>\n",
       "<table border=\"1\" class=\"dataframe\">\n",
       "  <thead>\n",
       "    <tr style=\"text-align: right;\">\n",
       "      <th></th>\n",
       "      <th>sepal_length</th>\n",
       "      <th>sepal_width</th>\n",
       "      <th>petal_length</th>\n",
       "      <th>petal_width</th>\n",
       "    </tr>\n",
       "  </thead>\n",
       "  <tbody>\n",
       "    <tr>\n",
       "      <td>0</td>\n",
       "      <td>-0.900681</td>\n",
       "      <td>1.032057</td>\n",
       "      <td>-1.341272</td>\n",
       "      <td>-1.312977</td>\n",
       "    </tr>\n",
       "    <tr>\n",
       "      <td>1</td>\n",
       "      <td>-1.143017</td>\n",
       "      <td>-0.124958</td>\n",
       "      <td>-1.341272</td>\n",
       "      <td>-1.312977</td>\n",
       "    </tr>\n",
       "    <tr>\n",
       "      <td>2</td>\n",
       "      <td>-1.385353</td>\n",
       "      <td>0.337848</td>\n",
       "      <td>-1.398138</td>\n",
       "      <td>-1.312977</td>\n",
       "    </tr>\n",
       "    <tr>\n",
       "      <td>3</td>\n",
       "      <td>-1.506521</td>\n",
       "      <td>0.106445</td>\n",
       "      <td>-1.284407</td>\n",
       "      <td>-1.312977</td>\n",
       "    </tr>\n",
       "    <tr>\n",
       "      <td>4</td>\n",
       "      <td>-1.021849</td>\n",
       "      <td>1.263460</td>\n",
       "      <td>-1.341272</td>\n",
       "      <td>-1.312977</td>\n",
       "    </tr>\n",
       "  </tbody>\n",
       "</table>\n",
       "</div>"
      ],
      "text/plain": [
       "   sepal_length  sepal_width  petal_length  petal_width\n",
       "0     -0.900681     1.032057     -1.341272    -1.312977\n",
       "1     -1.143017    -0.124958     -1.341272    -1.312977\n",
       "2     -1.385353     0.337848     -1.398138    -1.312977\n",
       "3     -1.506521     0.106445     -1.284407    -1.312977\n",
       "4     -1.021849     1.263460     -1.341272    -1.312977"
      ]
     },
     "execution_count": 10,
     "metadata": {},
     "output_type": "execute_result"
    }
   ],
   "source": [
    "dataset.head()"
   ]
  },
  {
   "cell_type": "code",
   "execution_count": 11,
   "metadata": {
    "execution": {
     "iopub.execute_input": "2022-05-24T16:30:48.546639Z",
     "iopub.status.busy": "2022-05-24T16:30:48.546033Z",
     "iopub.status.idle": "2022-05-24T16:30:48.555640Z",
     "shell.execute_reply": "2022-05-24T16:30:48.554796Z",
     "shell.execute_reply.started": "2022-05-24T16:30:48.546583Z"
    }
   },
   "outputs": [],
   "source": [
    "df = dataset.copy(deep=True)"
   ]
  },
  {
   "cell_type": "markdown",
   "metadata": {},
   "source": [
    "#### using pca method to decompose the dimensions"
   ]
  },
  {
   "cell_type": "code",
   "execution_count": 12,
   "metadata": {
    "execution": {
     "iopub.execute_input": "2022-05-24T16:30:48.557818Z",
     "iopub.status.busy": "2022-05-24T16:30:48.557335Z",
     "iopub.status.idle": "2022-05-24T16:30:48.567431Z",
     "shell.execute_reply": "2022-05-24T16:30:48.566455Z",
     "shell.execute_reply.started": "2022-05-24T16:30:48.557624Z"
    }
   },
   "outputs": [],
   "source": [
    "pca = PCA()"
   ]
  },
  {
   "cell_type": "code",
   "execution_count": 13,
   "metadata": {
    "execution": {
     "iopub.execute_input": "2022-05-24T16:30:48.568974Z",
     "iopub.status.busy": "2022-05-24T16:30:48.568725Z",
     "iopub.status.idle": "2022-05-24T16:30:48.642166Z",
     "shell.execute_reply": "2022-05-24T16:30:48.641446Z",
     "shell.execute_reply.started": "2022-05-24T16:30:48.568932Z"
    }
   },
   "outputs": [],
   "source": [
    "decomposed_data = pca.fit_transform(dataset)"
   ]
  },
  {
   "cell_type": "markdown",
   "metadata": {},
   "source": [
    "#### we can calculate the explained variance for each attribute by using scikit-learn, and plot the result"
   ]
  },
  {
   "cell_type": "code",
   "execution_count": 14,
   "metadata": {
    "execution": {
     "iopub.execute_input": "2022-05-24T16:30:48.643700Z",
     "iopub.status.busy": "2022-05-24T16:30:48.643260Z",
     "iopub.status.idle": "2022-05-24T16:30:48.807827Z",
     "shell.execute_reply": "2022-05-24T16:30:48.807127Z",
     "shell.execute_reply.started": "2022-05-24T16:30:48.643639Z"
    },
    "scrolled": true
   },
   "outputs": [
    {
     "data": {
      "image/png": "[encoded data removed]",
      "text/plain": [
       "<Figure size 432x288 with 1 Axes>"
      ]
     },
     "metadata": {
      "needs_background": "light"
     },
     "output_type": "display_data"
    }
   ],
   "source": [
    "#Plotting the Cumulative Summation of the Explained Variance\n",
    "plt.figure()\n",
    "plt.plot(np.cumsum(pca.explained_variance_ratio_))\n",
    "plt.xlabel('Number of Components')\n",
    "plt.ylabel('Variance (%)') #for each component\n",
    "plt.title('Iris Dataset Explained Variance')\n",
    "plt.show()"
   ]
  },
  {
   "cell_type": "markdown",
   "metadata": {},
   "source": [
    "This plot tells us that selecting 2 components we can preserve something around 98.8% or 99% of the total variance of the data. It makes sense, we’ll not use 100% of our variance, because it denotes all components, and we want only the principal ones."
   ]
  },
  {
   "cell_type": "code",
   "execution_count": 15,
   "metadata": {
    "execution": {
     "iopub.execute_input": "2022-05-24T16:30:48.809330Z",
     "iopub.status.busy": "2022-05-24T16:30:48.808909Z",
     "iopub.status.idle": "2022-05-24T16:30:48.812960Z",
     "shell.execute_reply": "2022-05-24T16:30:48.812158Z",
     "shell.execute_reply.started": "2022-05-24T16:30:48.809261Z"
    }
   },
   "outputs": [],
   "source": [
    "pca = PCA(n_components=2)"
   ]
  },
  {
   "cell_type": "code",
   "execution_count": 16,
   "metadata": {
    "execution": {
     "iopub.execute_input": "2022-05-24T16:30:48.814474Z",
     "iopub.status.busy": "2022-05-24T16:30:48.814107Z",
     "iopub.status.idle": "2022-05-24T16:30:48.829161Z",
     "shell.execute_reply": "2022-05-24T16:30:48.828234Z",
     "shell.execute_reply.started": "2022-05-24T16:30:48.814417Z"
    }
   },
   "outputs": [],
   "source": [
    "decomposed_data = pca.fit_transform(dataset)"
   ]
  },
  {
   "cell_type": "code",
   "execution_count": 17,
   "metadata": {
    "execution": {
     "iopub.execute_input": "2022-05-24T16:30:48.830805Z",
     "iopub.status.busy": "2022-05-24T16:30:48.830384Z",
     "iopub.status.idle": "2022-05-24T16:30:48.842514Z",
     "shell.execute_reply": "2022-05-24T16:30:48.841775Z",
     "shell.execute_reply.started": "2022-05-24T16:30:48.830761Z"
    }
   },
   "outputs": [],
   "source": [
    "columns = ['component#%i' % i for i in range(2)]"
   ]
  },
  {
   "cell_type": "code",
   "execution_count": 18,
   "metadata": {
    "execution": {
     "iopub.execute_input": "2022-05-24T16:30:48.843976Z",
     "iopub.status.busy": "2022-05-24T16:30:48.843626Z",
     "iopub.status.idle": "2022-05-24T16:30:48.857604Z",
     "shell.execute_reply": "2022-05-24T16:30:48.856364Z",
     "shell.execute_reply.started": "2022-05-24T16:30:48.843938Z"
    }
   },
   "outputs": [],
   "source": [
    "decomposed_df = pd.DataFrame(decomposed_data, columns=columns)"
   ]
  },
  {
   "cell_type": "code",
   "execution_count": 19,
   "metadata": {
    "execution": {
     "iopub.execute_input": "2022-05-24T16:30:48.859692Z",
     "iopub.status.busy": "2022-05-24T16:30:48.859240Z",
     "iopub.status.idle": "2022-05-24T16:30:48.874640Z",
     "shell.execute_reply": "2022-05-24T16:30:48.873802Z",
     "shell.execute_reply.started": "2022-05-24T16:30:48.859504Z"
    }
   },
   "outputs": [
    {
     "data": {
      "text/html": [
       "<div>\n",
       "<style scoped>\n",
       "    .dataframe tbody tr th:only-of-type {\n",
       "        vertical-align: middle;\n",
       "    }\n",
       "\n",
       "    .dataframe tbody tr th {\n",
       "        vertical-align: top;\n",
       "    }\n",
       "\n",
       "    .dataframe thead th {\n",
       "        text-align: right;\n",
       "    }\n",
       "</style>\n",
       "<table border=\"1\" class=\"dataframe\">\n",
       "  <thead>\n",
       "    <tr style=\"text-align: right;\">\n",
       "      <th></th>\n",
       "      <th>component#0</th>\n",
       "      <th>component#1</th>\n",
       "    </tr>\n",
       "  </thead>\n",
       "  <tbody>\n",
       "    <tr>\n",
       "      <td>0</td>\n",
       "      <td>-2.264542</td>\n",
       "      <td>0.505704</td>\n",
       "    </tr>\n",
       "    <tr>\n",
       "      <td>1</td>\n",
       "      <td>-2.086426</td>\n",
       "      <td>-0.655405</td>\n",
       "    </tr>\n",
       "    <tr>\n",
       "      <td>2</td>\n",
       "      <td>-2.367950</td>\n",
       "      <td>-0.318477</td>\n",
       "    </tr>\n",
       "    <tr>\n",
       "      <td>3</td>\n",
       "      <td>-2.304197</td>\n",
       "      <td>-0.575368</td>\n",
       "    </tr>\n",
       "    <tr>\n",
       "      <td>4</td>\n",
       "      <td>-2.388777</td>\n",
       "      <td>0.674767</td>\n",
       "    </tr>\n",
       "  </tbody>\n",
       "</table>\n",
       "</div>"
      ],
      "text/plain": [
       "   component#0  component#1\n",
       "0    -2.264542     0.505704\n",
       "1    -2.086426    -0.655405\n",
       "2    -2.367950    -0.318477\n",
       "3    -2.304197    -0.575368\n",
       "4    -2.388777     0.674767"
      ]
     },
     "execution_count": 19,
     "metadata": {},
     "output_type": "execute_result"
    }
   ],
   "source": [
    "decomposed_df.head()"
   ]
  },
  {
   "cell_type": "code",
   "execution_count": 20,
   "metadata": {
    "execution": {
     "iopub.execute_input": "2022-05-24T16:30:48.876768Z",
     "iopub.status.busy": "2022-05-24T16:30:48.876168Z",
     "iopub.status.idle": "2022-05-24T16:30:49.028912Z",
     "shell.execute_reply": "2022-05-24T16:30:49.028068Z",
     "shell.execute_reply.started": "2022-05-24T16:30:48.876709Z"
    }
   },
   "outputs": [
    {
     "data": {
      "text/html": [
       "<div>\n",
       "        \n",
       "        \n",
       "            <div id=\"6b631c2a-7dd2-4100-8454-9e081566bdaf\" class=\"plotly-graph-div\" style=\"height:525px; width:100%;\"></div>\n",
       "            <script type=\"text/javascript\">\n",
       "                require([\"plotly\"], function(Plotly) {\n",
       "                    window.PLOTLYENV=window.PLOTLYENV || {};\n",
       "                    \n",
       "                if (document.getElementById(\"6b631c2a-7dd2-4100-8454-9e081566bdaf\")) {\n",
       "                    Plotly.newPlot(\n",
       "                        '6b631c2a-7dd2-4100-8454-9e081566bdaf',\n",
       "                        [{\"marker\": {\"color\": [-0.5316565706283503, -1.7543893987960653, 1.6948455050386826, -0.2091053862809344, -0.8449208117694692, 1.9352491682272237, -0.19106411886660812, -0.1914868677273527, 0.9235828839356117, -1.3950778566583666, -0.47021943152515494, 0.4166487257376465, -0.8495990717980177, -1.297501126004247, 1.6970317148881022, -0.7722824948901335, -1.4437731464554429, 0.7734609856567871, 0.5072000882940276, -0.5310846886486681, 0.1755290852539493, 1.1801800126446582, -0.938272781106575, 2.5749552087717884, -0.016735428908380156, -0.06191359206483985, 0.9873802960673296, 0.1940428227040264, 0.6359955325492254, 0.3924682977756476, 1.0266859165361781, -1.388433071652139, -0.6824785544758251, 0.1842201952902285, 0.44253673584434655, -0.5740099058075188, -0.1708417652092722, -1.6274450539136278, 1.9983357600686398, -0.9886622154813357, 0.6588342010701367, -0.5494056007375351, -0.9002792048127364, 0.43368064776335996, 0.3297093084974873, -1.7547596796452405, 0.39396987123131133, 0.2817530862514288, 0.7824247070458779, -0.6315993015385878, -0.6820101460358099, -0.1423392212929033, -0.7628435126315515, -0.9458104622637632, -1.1105061919589627, -0.42860001589382873, 0.29907643526819333, -0.04959491214387656, -0.5928494212992232, -0.5261207402404088, -0.13356241782368794, 0.28684114511200165, -0.15818773441212158, -0.47526944340685495, -0.3547967572449277, -1.024642811758078, 1.0273330045944555, -0.33539472638928686, -0.042639029347006085, -0.3608881048312771, -0.8393614652635187, 0.12615038065497314, -0.06444182521982712, 0.6837780509673341, -0.25197162257915284, -0.3939632926791512, 0.846776848728254, 0.18235025273237274, 2.4911308217327255, 0.023457940859070256, -0.18610011716542135, 2.039599448664592, 0.09022059392104363, -1.7167186744011707, -0.8621080452449016, -1.1364652956053691, -1.8980661152829217, -1.1269320176358761, 1.9960888238495031, 1.3765880360792249, 0.43345936836454135, 0.7978293439820044, 0.7226794332383981, -0.3184461974360131, 0.20524265190876095, -2.495381484160946, -0.032371133812539525, -0.0885523936491453, 0.6428912667399297, 1.0294065183990047, 1.0178810546389478, 0.1758675088337173, 0.19799137163118458, -0.5157829540420849, -1.558517748408806, -0.40876896334078316, 0.6848349948873765, -0.9600936841534897, -0.9237523206873851, 2.6915717312555087, -0.0907419304371745, -1.1887726530440972, -0.17340645301117016, -1.2413065229577753, 0.019404526190516164, 0.387862594339585, -0.8769928932374541, -0.6230406161715393, -0.8574668436261245, 0.10527481935026106, 1.5232789826761544, 0.16327716204712203, 0.7795763533840665, -0.24057990972122975, 1.4214903139049058, 0.7195482461805962, 1.0272880493141796, 0.5650874323875705, -0.01853363649570448, 0.8154907035550818, -1.3009059725369916, -0.928112215837372, 1.0574631707317994, -0.7090419654945016, -0.8812759838656582, -1.860697008134446, -0.6075179071170106, -1.0156289359550705, 1.3107569224018814, 1.4537664839104052, 1.721922185058289, -0.4474323347139131, 0.7205997048056981, -0.43726919587855934, 0.04814809922474339, -0.7994463833076786, 1.7982802443632047, 1.082846367156516, -1.7238334140464016, 0.5845375122312755, 1.0983830630701705, -0.09435896310251703, 0.5029260702388972, 0.7843903997826294, 0.3180943413130112, -0.9717502990699064, 0.26384327080073744, -2.3028832588208017, 0.23849282190021107, -0.46210927739897967, 0.7032358693389975, 0.6806059255277843, -0.3686750764680505, -0.29090165907060644, -0.8524350651565471, 0.6840570396208827, 1.166485177133698, -1.1210682293683973, 0.10284235345403896, 1.4526786544588919, 0.5741998632471116, 0.9569657375661822, 0.6423797285171764, 0.8234979033610857, 0.7560263894358387, 0.9179088302332221, -1.8440291114855225, 1.4967648288552755, 0.5189445952443134, 0.3265915355614872, 0.19164455995038282, -0.8212775378455387, -0.6934989938994905, -0.15369505888139562, -1.5235385068835845, -0.16424289233230144, -0.4410889763289755, -0.22036704367368634, -1.6816940445113715, 0.008221102972721276, 1.053101408091034, 0.1902160178605489, -0.3725129130403915, -1.016552196328026, 0.8215563063409702, 1.0806659965560184, 0.8112631187195198, -0.37278813348115797, 0.8111983279044142, -0.983044959428776, 0.8189383332385419, -0.5947128648686699, -1.0482313560481153, -0.5970078470619615, -0.9395063136544073, 1.6434638478098087, -0.7467130256032486, -0.7485782304981992, 0.3252961333017186, 0.9284530008132323, 0.06880066340130746, 0.19678414502188005, -0.062178065683531424, -0.9446621733443084, 0.25678325578929373, -1.072596598136165, -1.178308951113081, -1.1051279864024544, 0.9583848157968569, -0.10631933578903618, -1.0126837275698775, 0.40991898955635897, -1.3773788860094869, -1.4706236716776586, -0.05315158060388429, -2.170908169100293, 1.0075766102555035, -1.6476148510298052, 0.30197483276411596, -1.3102349275926892, 1.2722692247855545, 1.5998620849941232, 0.0320384764651954, 0.7272486292273486, -1.0382057132226734, 1.002479585360816, 0.27398973373355945, 1.4299755895917943, 1.8059493423464488, -0.49136131768160035, 1.092740027331807, -0.020594434870524717, 1.5851867782963276, -0.4110769934133797, -0.13569487526384497, -1.3802058913357709, 0.09908754536808569, 1.6335457541654153, -0.8258583954924602, -0.8087757687853754, -0.5732300348927414, 0.4374585980359888, 1.30749460567925, 0.9323215631223718, 0.8785841699167131, -2.071542977424189, -0.856543477159274, 0.20632266530232643, 0.6723444298249748, 1.1172227244998745, 0.07337727820674352, -0.9398236520796466, -0.9220513811038131, -1.4799095457105615, -1.0172183728778033, 0.5604591663108873, 0.42085785089375827, 0.31080542280612866, 1.2732394866863528, -0.1790904908389592, -0.8079246122812932, -0.9813098376886403, -1.3502243770849458, -1.9582580383053787, 0.14389964072568712, -0.46064643674826594, -0.5735684484764136, -1.4661124527949496, 0.36840869971444606, -0.041428853178007014, -0.2930353787794643, -1.3454447009796575, 0.8185628645058224, 0.2262446121004741, 0.45132517397212024, 0.5124672937625107, -0.7501680124456679, 1.874007930415915, -0.1423388268847878, 2.310904341150869, 0.22534167886336992, 0.4734690608459129, -1.0001909431680756, 0.4095962903781267, -1.0345576343093272, 0.4481181653092666, 0.44030722162881264, 0.325896894915284, 2.0571019760785996, -0.6714353197292123, -1.4452660921519094, -1.0731922679102877, -0.5858515766268777, 1.0851566499635676, -1.1911629918399465, -1.1464759871406978, -0.020437027617633306, 0.4373653556009955, -0.7107230137594737, -0.8198288665223713, -1.5464356113551183, -0.26503144984212973, 0.5534476103378366, 0.3275677515278276, 0.4464187907714326, 0.5387825525962718, -0.3719321263369639, 0.45869526678817285, -0.6367889068982296, -0.6340759265539446, -0.1709451573996206, 1.3030553829028793, -0.2293397612046306, -0.09114273362205505, 0.009243492408644652, 0.1381634527965386, 0.7281893083710613, 1.6697484673028846, 1.17217022087436, -0.7821290464027101, -0.4783502963603611, -1.3371643703300902, 1.1521775351272816, -1.3190701374476954, -0.41770433337061375, -0.852872695724667, 1.0772034357858604, 0.5870273314472825, -0.23074990311949928, -1.1457383819744902, -0.4049400901137618, 2.145672599466718, -0.4613192281953795, 0.21957629501111434, 1.2873589552195426, 1.3693668217730721, 0.32259508585510904, -0.7591656308768072, 1.6506242245530645, -1.1925333943139287, 1.7338539532814867, -0.11939902452430873, -0.40172021609892977, 0.6904887984890149, 0.4748174624680976, 1.4426102907155978, -1.1060114378380972, 0.09587542164712107, 1.3470165769653344, 0.28240454983935126, 0.6806376130394053, 1.3960729831702348, 1.2004163806334698, 0.29201135034156067, 1.687600811500161, 0.43264305943360243, -1.1654743255327578, -0.7735169282902933, 1.893218165390246, -1.0290683288068592, -2.096667512432125, 1.0447697261036835, -0.03906151685890235, 0.5530666075138514, -1.2562104287638074, 0.15786256909051016, 2.082661619709583, 1.3514256627717984, -0.619636564239323, 0.09771247335632394, 0.722832251927034, 1.5661594460574757, 0.8901983790907265, -0.17333593142248976, -0.08417152832610465, -1.3533382514291312, -0.7854938692382174, 1.338489218418821, -0.6421451420080191, -0.23210543511669385, 0.8704994384059693, 0.5130871324951467, 0.7876507461782214, 0.2784040156282564, 0.6066023666030983, 0.9723043930665334, -0.8707030915380414, -0.2922837884899969, 1.6147957592721962, 0.7816332204863854, 0.30884717932716166, -1.4785910221122889, -0.133944164642417, 1.5763458272117254, -0.5557088568954295, -0.8396136669296863, -0.08483512860011667, -0.03455075316767798, 0.5152327606107118, -0.1923720440000294, 0.638902154501687, 0.3289102250269518, -0.7330953641730067, -1.911052867837667, -1.217409328176328, -0.15547853514133383, 0.9201897423454645, 0.8673984006033275, -1.2267411989066825, 0.8519280367885756, 0.26088865601176026, 1.0536933844282754, 0.6204707915101298, 0.3745448142130186, 0.4417733404982219, 1.5770484451616622, -0.38160357675863305, -0.42112093828453845, -1.6461259284126672, -0.7098926418970851, -1.168651313018574, 0.07889001581495408, 1.0587584323237327, 0.36606415759206523, -1.3006565055804695, 2.319438758527533, 0.8976122223386582, 1.0956072496226177, -1.5090997290898762, -1.6721988999650692, 2.0563290984798814, -0.08165027836803805, -0.36529123478796016, 0.06456771308170886, 1.678319826843598, -0.1944493836556596, -2.5245542155093004, 0.03565828681002868, -2.042020610577472, -0.91415326352157, 1.1841653638914, 0.8004198738045971, -2.892765116364954, 0.09278688722073168, -1.0982977229921704, -0.5795980849621776, -0.052679161378269695, -0.022464800373400384, 1.6351313053479402, 2.7686755234882114, -0.6400621918370762, 1.1126975043095622, 0.8592320948996484, 0.11645817688460146, 1.076256051313391, -1.9353686708212587, -0.30821984359687066, 0.2565316383787399, 0.7095360149442114, -0.603052196382648, 0.10960003268746871, -0.22380372551228364, -0.3053187774328173, -1.6785792247936115, -0.24751312403499595, -0.39219562327509727, -0.5516132468658664, 0.041843125501493814, 0.8759916346296563, -0.00603322656176871, 1.1103418089451205, -0.6290452372487826, 1.0489592063843842, 0.7953434211361542, 1.2640613913857495, 0.7892434259192601, -0.16153683365303348, -0.9954420126942458, 0.17122451371395075, 1.2498021020056946, 0.6942393095263447, 0.3709259535385839, -1.369219983928303, 0.8500076709099379, -0.6136735611367863, -0.05937220739637234, -0.04111844001279214, 0.009131099296393492, -0.03555766860996154, 0.15644398125716752], \"colorscale\": [[0.0, \"#440154\"], [0.1111111111111111, \"#482878\"], [0.2222222222222222, \"#3e4989\"], [0.3333333333333333, \"#31688e\"], [0.4444444444444444, \"#26828e\"], [0.5555555555555556, \"#1f9e89\"], [0.6666666666666666, \"#35b779\"], [0.7777777777777778, \"#6ece58\"], [0.8888888888888888, \"#b5de2b\"], [1.0, \"#fde725\"]], \"showscale\": true, \"size\": 16}, \"mode\": \"markers\", \"type\": \"scatter\", \"x\": [-2.264541728394902, -2.086425500616159, -2.3679504490625254, -2.30419716115201, -2.3887774935056427, -2.070536807180554, -2.4457113396302845, -2.2338418587092663, -2.3419576764553907, -2.1886757552808707, -2.1634865562665233, -2.3273777541343748, -2.224082722045003, -2.63971626084463, -2.19229150849843, -2.2514652145840657, -2.2027504800800863, -2.1901791637910524, -1.8940742930236685, -2.3399490704234087, -1.9145563949595175, -2.204645397533814, -2.7741697937051573, -1.8204115633372144, -2.228217499459726, -1.9570240073413974, -2.052063311276687, -2.1681936533450217, -2.1403059632841583, -2.2687901943878774, -2.1445544292771355, -1.8319381022015875, -2.6082028676633486, -2.437950859095143, -2.1886757552808707, -2.2111198968124226, -2.0444165193198005, -2.1886757552808707, -2.4359522029660203, -2.1705472018842706, -2.2865272388409306, -1.8717072235369512, -2.5578344195375133, -1.9642792903547375, -2.1333728329200286, -2.075357592837307, -2.3812582168023733, -2.3981916876626395, -2.226781213091519, -2.205954168648403, 1.1039936528045726, 0.7324814400086809, 1.242109505318938, 0.39730728282332745, 1.0725939482015456, 0.3844581461690015, 0.7487150759515532, -0.49786338779811823, 0.9262223675330985, 0.004968025584319044, -0.12469746138037077, 0.43873011778054677, 0.5516339814225081, 0.7171650662368515, -0.03725838296568836, 0.8758905359406833, 0.3480064019802087, 0.1533925445686671, 1.2153032092161544, 0.15694117564425075, 0.738256104369896, 0.4723696823445687, 1.2279882140834428, 0.629381045314902, 0.7004727992084585, 0.8735369874014338, 1.2542221905224507, 1.3582398473872723, 0.6621261375659379, -0.04728151331988012, 0.12153420888011873, 0.014118226051387794, 0.23601083732659697, 1.0566914280905768, 0.2214170883302177, 0.43178316074105344, 1.0494133552191804, 1.0358782103228248, 0.06706759987298026, 0.2754250662518342, 0.2723350662617719, 0.6231705397262217, 0.3300053638372266, -0.3736276226873761, 0.28294434295510285, 0.08905311031901136, 0.224356783208606, 0.573883485558467, -0.4570128725046748, 0.25224447326946925, 1.8476725943096644, 1.1531898082521295, 2.206349497126594, 1.4386854023261826, 1.8678907025555853, 2.7541967088257535, 0.3583744748416677, 2.3030058981503196, 2.0017352992189172, 2.2675545991022688, 1.3659094292022147, 1.5990645856518697, 1.884251853752075, 1.253086514377592, 1.464061522985623, 1.591809302638529, 1.4712801894655443, 2.437378482193509, 3.30914118267608, 1.2539809866905787, 2.0404962596630396, 0.9739151144704739, 2.8980644358432777, 1.329193691323494, 1.704240708519606, 1.9577276617934363, 1.171904507987869, 1.0197810528162632, 1.7860088612484688, 1.8647779127074668, 2.435497391415144, 2.3160824119611547, 1.8603714258523165, 1.1112717256759694, 1.197469155118038, 2.80094940373403, 1.5801552485205375, 1.3470444243548023, 0.9234329777663843, 1.8535519840664412, 2.0161572006777595, 1.9031168585994875, 1.1531898082521295, 2.04330843928781, 2.0016909669349983, 1.8705220714601263, 1.558491890723718, 1.5208450639985909, 1.376391190641928, 0.959298575616038], \"y\": [0.5057039027737856, -0.6554047293691372, -0.3184773108472486, -0.575367712533195, 0.6747673967025161, 1.5185485598885144, 0.0745626750068747, 0.24761393175226584, -1.0951463625829554, -0.4486290483375586, 1.0705955760377275, 0.15858745465947663, -0.7091181580302259, -0.9382819821078539, 1.8899785123164672, 2.7223710765744706, 1.5137502825462201, 0.5143043082206935, 1.4311107069412379, 1.158033428985002, 0.4304651632801388, 0.9524573172889991, 0.4895170265034958, 0.10675079283540656, 0.16218616266619756, -0.6078925674838078, 0.2660143119816558, 0.5520164953235407, 0.33664040884505503, -0.3148786028405278, -0.4839420967692586, 0.4452668355028077, 1.8284751927341027, 2.185391615630894, -0.4486290483375586, -0.18433781054027834, 0.6849564262949374, -0.4486290483375586, -0.8821694147756167, 0.29272695496644696, 0.4679917156709386, -2.327691606114911, -0.4538163804897928, 0.49739164001838393, 1.171432111774205, -0.6919173471364097, 1.1506325928736676, -0.36239076472585663, 1.0254825528235456, 0.03223784527378008, 0.8631124458513246, 0.5986355733419975, 0.6148224496122867, -1.7581689474435267, -0.2117579026798959, -0.5910624686227366, 0.7786986113887825, -1.8488687712754432, 0.03033082678338099, -1.0294011124030882, -2.658062677961762, -0.05888128502145447, -1.772581564856256, -0.185434314505044, -0.43279509871416905, 0.5099981510591476, -0.19062164665727788, -0.7907254562344859, -1.6333556445154838, -1.3031032701729117, 0.4024703816185359, -0.4166082224438798, -0.9409147925302725, -0.4168116425417724, -0.06349392765170236, 0.2507086107020539, -0.08262009981311272, 0.3288202662704019, -0.2243460709434644, -1.0572124126050206, -1.5635923798655786, -1.5733923546480604, -0.7759237840118168, -0.6369012837689374, -0.28084769308564034, 0.8551369202180029, 0.5221972645127767, -1.3924664843877812, -0.21262073489338879, -1.3298159131577025, -1.1194415241194042, 0.027542633302294412, -0.9889007318191554, -2.017932265204174, -0.8539507169865503, -0.1749085477905417, -0.3804846594865457, -0.1537199740800651, -1.5394645102639812, -0.5958607459650311, 0.871696661773413, -0.7013261138565761, 0.5544701049349227, -0.050010522268885686, 0.29119280176116896, 0.7884322063548451, -1.5600945839772897, 0.40951669522194345, -0.72386535931266, 1.921442991465355, 0.6939480398041612, -0.42824883590033996, 0.41433275795008384, -1.1673913352452463, -0.4441475694791239, 0.6770353716018517, 0.2531924719668155, 2.5567573414948024, -0.0023613201020834837, -1.7175838442659785, 0.907398765015053, -0.5711743763662667, 0.39779135917186803, -0.4867605419037244, 1.0141484248357853, 1.0033345154297775, -0.3188966173105681, 0.06554296309664795, -0.19327279985689172, 0.5553815315789898, 0.24665446806897393, 2.6261838690226282, -0.18467239440998356, -0.2959861024303905, -0.817167741913616, 0.8447481937849745, 1.0724744961271222, 0.4222559658955462, 0.019230370546893055, 0.6724227289716038, 0.6103970375551128, 0.686024831858699, -0.7013261138565761, 0.864684880472019, 1.0485500466234177, 0.382821837622998, -0.9053136014070666, 0.2667945748539107, 1.0163619287948857, -0.022283944660567143]}],\n",
       "                        {\"legend\": {\"font\": {\"size\": 16}}, \"template\": {\"data\": {\"bar\": [{\"error_x\": {\"color\": \"#2a3f5f\"}, \"error_y\": {\"color\": \"#2a3f5f\"}, \"marker\": {\"line\": {\"color\": \"#E5ECF6\", \"width\": 0.5}}, \"type\": \"bar\"}], \"barpolar\": [{\"marker\": {\"line\": {\"color\": \"#E5ECF6\", \"width\": 0.5}}, \"type\": \"barpolar\"}], \"carpet\": [{\"aaxis\": {\"endlinecolor\": \"#2a3f5f\", \"gridcolor\": \"white\", \"linecolor\": \"white\", \"minorgridcolor\": \"white\", \"startlinecolor\": \"#2a3f5f\"}, \"baxis\": {\"endlinecolor\": \"#2a3f5f\", \"gridcolor\": \"white\", \"linecolor\": \"white\", \"minorgridcolor\": \"white\", \"startlinecolor\": \"#2a3f5f\"}, \"type\": \"carpet\"}], \"choropleth\": [{\"colorbar\": {\"outlinewidth\": 0, \"ticks\": \"\"}, \"type\": \"choropleth\"}], \"contour\": [{\"colorbar\": {\"outlinewidth\": 0, \"ticks\": \"\"}, \"colorscale\": [[0.0, \"#0d0887\"], [0.1111111111111111, \"#46039f\"], [0.2222222222222222, \"#7201a8\"], [0.3333333333333333, \"#9c179e\"], [0.4444444444444444, \"#bd3786\"], [0.5555555555555556, \"#d8576b\"], [0.6666666666666666, \"#ed7953\"], [0.7777777777777778, \"#fb9f3a\"], [0.8888888888888888, \"#fdca26\"], [1.0, \"#f0f921\"]], \"type\": \"contour\"}], \"contourcarpet\": [{\"colorbar\": {\"outlinewidth\": 0, \"ticks\": \"\"}, \"type\": \"contourcarpet\"}], \"heatmap\": [{\"colorbar\": {\"outlinewidth\": 0, \"ticks\": \"\"}, \"colorscale\": [[0.0, \"#0d0887\"], [0.1111111111111111, \"#46039f\"], [0.2222222222222222, \"#7201a8\"], [0.3333333333333333, \"#9c179e\"], [0.4444444444444444, \"#bd3786\"], [0.5555555555555556, \"#d8576b\"], [0.6666666666666666, \"#ed7953\"], [0.7777777777777778, \"#fb9f3a\"], [0.8888888888888888, \"#fdca26\"], [1.0, \"#f0f921\"]], \"type\": \"heatmap\"}], \"heatmapgl\": [{\"colorbar\": {\"outlinewidth\": 0, \"ticks\": \"\"}, \"colorscale\": [[0.0, \"#0d0887\"], [0.1111111111111111, \"#46039f\"], [0.2222222222222222, \"#7201a8\"], [0.3333333333333333, \"#9c179e\"], [0.4444444444444444, \"#bd3786\"], [0.5555555555555556, \"#d8576b\"], [0.6666666666666666, \"#ed7953\"], [0.7777777777777778, \"#fb9f3a\"], [0.8888888888888888, \"#fdca26\"], [1.0, \"#f0f921\"]], \"type\": \"heatmapgl\"}], \"histogram\": [{\"marker\": {\"colorbar\": {\"outlinewidth\": 0, \"ticks\": \"\"}}, \"type\": \"histogram\"}], \"histogram2d\": [{\"colorbar\": {\"outlinewidth\": 0, \"ticks\": \"\"}, \"colorscale\": [[0.0, \"#0d0887\"], [0.1111111111111111, \"#46039f\"], [0.2222222222222222, \"#7201a8\"], [0.3333333333333333, \"#9c179e\"], [0.4444444444444444, \"#bd3786\"], [0.5555555555555556, \"#d8576b\"], [0.6666666666666666, \"#ed7953\"], [0.7777777777777778, \"#fb9f3a\"], [0.8888888888888888, \"#fdca26\"], [1.0, \"#f0f921\"]], \"type\": \"histogram2d\"}], \"histogram2dcontour\": [{\"colorbar\": {\"outlinewidth\": 0, \"ticks\": \"\"}, \"colorscale\": [[0.0, \"#0d0887\"], [0.1111111111111111, \"#46039f\"], [0.2222222222222222, \"#7201a8\"], [0.3333333333333333, \"#9c179e\"], [0.4444444444444444, \"#bd3786\"], [0.5555555555555556, \"#d8576b\"], [0.6666666666666666, \"#ed7953\"], [0.7777777777777778, \"#fb9f3a\"], [0.8888888888888888, \"#fdca26\"], [1.0, \"#f0f921\"]], \"type\": \"histogram2dcontour\"}], \"mesh3d\": [{\"colorbar\": {\"outlinewidth\": 0, \"ticks\": \"\"}, \"type\": \"mesh3d\"}], \"parcoords\": [{\"line\": {\"colorbar\": {\"outlinewidth\": 0, \"ticks\": \"\"}}, \"type\": \"parcoords\"}], \"scatter\": [{\"marker\": {\"colorbar\": {\"outlinewidth\": 0, \"ticks\": \"\"}}, \"type\": \"scatter\"}], \"scatter3d\": [{\"line\": {\"colorbar\": {\"outlinewidth\": 0, \"ticks\": \"\"}}, \"marker\": {\"colorbar\": {\"outlinewidth\": 0, \"ticks\": \"\"}}, \"type\": \"scatter3d\"}], \"scattercarpet\": [{\"marker\": {\"colorbar\": {\"outlinewidth\": 0, \"ticks\": \"\"}}, \"type\": \"scattercarpet\"}], \"scattergeo\": [{\"marker\": {\"colorbar\": {\"outlinewidth\": 0, \"ticks\": \"\"}}, \"type\": \"scattergeo\"}], \"scattergl\": [{\"marker\": {\"colorbar\": {\"outlinewidth\": 0, \"ticks\": \"\"}}, \"type\": \"scattergl\"}], \"scattermapbox\": [{\"marker\": {\"colorbar\": {\"outlinewidth\": 0, \"ticks\": \"\"}}, \"type\": \"scattermapbox\"}], \"scatterpolar\": [{\"marker\": {\"colorbar\": {\"outlinewidth\": 0, \"ticks\": \"\"}}, \"type\": \"scatterpolar\"}], \"scatterpolargl\": [{\"marker\": {\"colorbar\": {\"outlinewidth\": 0, \"ticks\": \"\"}}, \"type\": \"scatterpolargl\"}], \"scatterternary\": [{\"marker\": {\"colorbar\": {\"outlinewidth\": 0, \"ticks\": \"\"}}, \"type\": \"scatterternary\"}], \"surface\": [{\"colorbar\": {\"outlinewidth\": 0, \"ticks\": \"\"}, \"colorscale\": [[0.0, \"#0d0887\"], [0.1111111111111111, \"#46039f\"], [0.2222222222222222, \"#7201a8\"], [0.3333333333333333, \"#9c179e\"], [0.4444444444444444, \"#bd3786\"], [0.5555555555555556, \"#d8576b\"], [0.6666666666666666, \"#ed7953\"], [0.7777777777777778, \"#fb9f3a\"], [0.8888888888888888, \"#fdca26\"], [1.0, \"#f0f921\"]], \"type\": \"surface\"}], \"table\": [{\"cells\": {\"fill\": {\"color\": \"#EBF0F8\"}, \"line\": {\"color\": \"white\"}}, \"header\": {\"fill\": {\"color\": \"#C8D4E3\"}, \"line\": {\"color\": \"white\"}}, \"type\": \"table\"}]}, \"layout\": {\"annotationdefaults\": {\"arrowcolor\": \"#2a3f5f\", \"arrowhead\": 0, \"arrowwidth\": 1}, \"colorscale\": {\"diverging\": [[0, \"#8e0152\"], [0.1, \"#c51b7d\"], [0.2, \"#de77ae\"], [0.3, \"#f1b6da\"], [0.4, \"#fde0ef\"], [0.5, \"#f7f7f7\"], [0.6, \"#e6f5d0\"], [0.7, \"#b8e186\"], [0.8, \"#7fbc41\"], [0.9, \"#4d9221\"], [1, \"#276419\"]], \"sequential\": [[0.0, \"#0d0887\"], [0.1111111111111111, \"#46039f\"], [0.2222222222222222, \"#7201a8\"], [0.3333333333333333, \"#9c179e\"], [0.4444444444444444, \"#bd3786\"], [0.5555555555555556, \"#d8576b\"], [0.6666666666666666, \"#ed7953\"], [0.7777777777777778, \"#fb9f3a\"], [0.8888888888888888, \"#fdca26\"], [1.0, \"#f0f921\"]], \"sequentialminus\": [[0.0, \"#0d0887\"], [0.1111111111111111, \"#46039f\"], [0.2222222222222222, \"#7201a8\"], [0.3333333333333333, \"#9c179e\"], [0.4444444444444444, \"#bd3786\"], [0.5555555555555556, \"#d8576b\"], [0.6666666666666666, \"#ed7953\"], [0.7777777777777778, \"#fb9f3a\"], [0.8888888888888888, \"#fdca26\"], [1.0, \"#f0f921\"]]}, \"colorway\": [\"#636efa\", \"#EF553B\", \"#00cc96\", \"#ab63fa\", \"#FFA15A\", \"#19d3f3\", \"#FF6692\", \"#B6E880\", \"#FF97FF\", \"#FECB52\"], \"font\": {\"color\": \"#2a3f5f\"}, \"geo\": {\"bgcolor\": \"white\", \"lakecolor\": \"white\", \"landcolor\": \"#E5ECF6\", \"showlakes\": true, \"showland\": true, \"subunitcolor\": \"white\"}, \"hoverlabel\": {\"align\": \"left\"}, \"hovermode\": \"closest\", \"mapbox\": {\"style\": \"light\"}, \"paper_bgcolor\": \"white\", \"plot_bgcolor\": \"#E5ECF6\", \"polar\": {\"angularaxis\": {\"gridcolor\": \"white\", \"linecolor\": \"white\", \"ticks\": \"\"}, \"bgcolor\": \"#E5ECF6\", \"radialaxis\": {\"gridcolor\": \"white\", \"linecolor\": \"white\", \"ticks\": \"\"}}, \"scene\": {\"xaxis\": {\"backgroundcolor\": \"#E5ECF6\", \"gridcolor\": \"white\", \"gridwidth\": 2, \"linecolor\": \"white\", \"showbackground\": true, \"ticks\": \"\", \"zerolinecolor\": \"white\"}, \"yaxis\": {\"backgroundcolor\": \"#E5ECF6\", \"gridcolor\": \"white\", \"gridwidth\": 2, \"linecolor\": \"white\", \"showbackground\": true, \"ticks\": \"\", \"zerolinecolor\": \"white\"}, \"zaxis\": {\"backgroundcolor\": \"#E5ECF6\", \"gridcolor\": \"white\", \"gridwidth\": 2, \"linecolor\": \"white\", \"showbackground\": true, \"ticks\": \"\", \"zerolinecolor\": \"white\"}}, \"shapedefaults\": {\"line\": {\"color\": \"#2a3f5f\"}}, \"ternary\": {\"aaxis\": {\"gridcolor\": \"white\", \"linecolor\": \"white\", \"ticks\": \"\"}, \"baxis\": {\"gridcolor\": \"white\", \"linecolor\": \"white\", \"ticks\": \"\"}, \"bgcolor\": \"#E5ECF6\", \"caxis\": {\"gridcolor\": \"white\", \"linecolor\": \"white\", \"ticks\": \"\"}}, \"title\": {\"x\": 0.05}, \"xaxis\": {\"automargin\": true, \"gridcolor\": \"white\", \"linecolor\": \"white\", \"ticks\": \"\", \"zerolinecolor\": \"white\", \"zerolinewidth\": 2}, \"yaxis\": {\"automargin\": true, \"gridcolor\": \"white\", \"linecolor\": \"white\", \"ticks\": \"\", \"zerolinecolor\": \"white\", \"zerolinewidth\": 2}}}, \"title\": {\"font\": {\"size\": 24}, \"text\": \"Scatter plot\"}, \"xaxis\": {\"showgrid\": true, \"showticklabels\": false, \"zeroline\": false}, \"yaxis\": {\"showgrid\": true, \"showticklabels\": false, \"zeroline\": false}},\n",
       "                        {\"responsive\": true}\n",
       "                    ).then(function(){\n",
       "                            \n",
       "var gd = document.getElementById('6b631c2a-7dd2-4100-8454-9e081566bdaf');\n",
       "var x = new MutationObserver(function (mutations, observer) {{\n",
       "        var display = window.getComputedStyle(gd).display;\n",
       "        if (!display || display === 'none') {{\n",
       "            console.log([gd, 'removed!']);\n",
       "            Plotly.purge(gd);\n",
       "            observer.disconnect();\n",
       "        }}\n",
       "}});\n",
       "\n",
       "// Listen for the removal of the full notebook cells\n",
       "var notebookContainer = gd.closest('#notebook-container');\n",
       "if (notebookContainer) {{\n",
       "    x.observe(notebookContainer, {childList: true});\n",
       "}}\n",
       "\n",
       "// Listen for the clearing of the current output cell\n",
       "var outputEl = gd.closest('.output');\n",
       "if (outputEl) {{\n",
       "    x.observe(outputEl, {childList: true});\n",
       "}}\n",
       "\n",
       "                        })\n",
       "                };\n",
       "                });\n",
       "            </script>\n",
       "        </div>"
      ]
     },
     "metadata": {},
     "output_type": "display_data"
    }
   ],
   "source": [
    "# fig = go.Figure(data=go.Scatter(x=decomposed_df['component#0'], y=decomposed_df['component#1'], mode='markers'))\n",
    "\n",
    "# Create a trace\n",
    "trace = go.Scatter(\n",
    "    x = decomposed_df['component#0'],\n",
    "    y = decomposed_df['component#1'],\n",
    "    mode = 'markers',\n",
    "    marker=dict(\n",
    "        size=16,\n",
    "        color=np.random.randn(500), #set color equal to a variable\n",
    "        colorscale='Viridis', # one of plotly colorscales\n",
    "        showscale=True\n",
    "    )\n",
    ")\n",
    "layout = {\n",
    "    \"title\": \"Scatter plot\",\n",
    "    \"xaxis\": {\n",
    "        \"showgrid\": True,\n",
    "        \"zeroline\": False,\n",
    "        \"showticklabels\": False\n",
    "    },\n",
    "    \"yaxis\": {\n",
    "        \"showgrid\": True,\n",
    "        \"zeroline\": False,\n",
    "        \"showticklabels\": False\n",
    "    },\n",
    "    \"legend\": {\"font\": {\"size\": 16}},\n",
    "    \"titlefont\": {\"size\": 24}\n",
    "}\n",
    "data = [trace]\n",
    "fig = Figure(data=data, layout=layout)\n",
    "fig.show()"
   ]
  },
  {
   "cell_type": "code",
   "execution_count": 21,
   "metadata": {
    "execution": {
     "iopub.execute_input": "2022-05-24T16:30:49.030754Z",
     "iopub.status.busy": "2022-05-24T16:30:49.030259Z",
     "iopub.status.idle": "2022-05-24T16:30:49.037493Z",
     "shell.execute_reply": "2022-05-24T16:30:49.036435Z",
     "shell.execute_reply.started": "2022-05-24T16:30:49.030699Z"
    }
   },
   "outputs": [
    {
     "data": {
      "text/plain": [
       "array([0.72770452, 0.23030523])"
      ]
     },
     "execution_count": 21,
     "metadata": {},
     "output_type": "execute_result"
    }
   ],
   "source": [
    "pca.explained_variance_ratio_"
   ]
  },
  {
   "cell_type": "markdown",
   "metadata": {},
   "source": [
    "#### Using elbow method to compute the clusters"
   ]
  },
  {
   "cell_type": "code",
   "execution_count": 22,
   "metadata": {
    "execution": {
     "iopub.execute_input": "2022-05-24T16:30:49.040007Z",
     "iopub.status.busy": "2022-05-24T16:30:49.039627Z",
     "iopub.status.idle": "2022-05-24T16:30:51.552325Z",
     "shell.execute_reply": "2022-05-24T16:30:51.551465Z",
     "shell.execute_reply.started": "2022-05-24T16:30:49.039933Z"
    }
   },
   "outputs": [],
   "source": [
    "wcss = []\n",
    "clusters = []\n",
    "d = []\n",
    "for k in range(1, 40):\n",
    "    kmeans = KMeans(n_clusters=k, init=\"k-means++\", n_init=10,\n",
    "                    max_iter=300)\n",
    "    kmeans.fit_predict(dataset)\n",
    "    wcss.append(kmeans.inertia_)\n",
    "    clusters.append(k)"
   ]
  },
  {
   "cell_type": "markdown",
   "metadata": {},
   "source": [
    "#### using plotly method to plot elbow curve"
   ]
  },
  {
   "cell_type": "code",
   "execution_count": 23,
   "metadata": {
    "execution": {
     "iopub.execute_input": "2022-05-24T16:30:51.554856Z",
     "iopub.status.busy": "2022-05-24T16:30:51.554336Z",
     "iopub.status.idle": "2022-05-24T16:30:51.722598Z",
     "shell.execute_reply": "2022-05-24T16:30:51.721707Z",
     "shell.execute_reply.started": "2022-05-24T16:30:51.554796Z"
    }
   },
   "outputs": [
    {
     "name": "stderr",
     "output_type": "stream",
     "text": [
      "/opt/conda/lib/python3.6/site-packages/plotly/graph_objs/_deprecations.py:40: DeprecationWarning:\n",
      "\n",
      "plotly.graph_objs.Data is deprecated.\n",
      "Please replace it with a list or tuple of instances of the following types\n",
      "  - plotly.graph_objs.Scatter\n",
      "  - plotly.graph_objs.Bar\n",
      "  - plotly.graph_objs.Area\n",
      "  - plotly.graph_objs.Histogram\n",
      "  - etc.\n",
      "\n",
      "\n"
     ]
    },
    {
     "data": {
      "text/html": [
       "<div>\n",
       "        \n",
       "        \n",
       "            <div id=\"827aee9c-9dd3-4786-aaf7-b98f103f6dc7\" class=\"plotly-graph-div\" style=\"height:525px; width:100%;\"></div>\n",
       "            <script type=\"text/javascript\">\n",
       "                require([\"plotly\"], function(Plotly) {\n",
       "                    window.PLOTLYENV=window.PLOTLYENV || {};\n",
       "                    \n",
       "                if (document.getElementById(\"827aee9c-9dd3-4786-aaf7-b98f103f6dc7\")) {\n",
       "                    Plotly.newPlot(\n",
       "                        '827aee9c-9dd3-4786-aaf7-b98f103f6dc7',\n",
       "                        [{\"type\": \"scatter\", \"x\": [1, 2, 3, 4, 5, 6, 7, 8, 9, 10, 11, 12, 13, 14, 15, 16, 17, 18, 19, 20, 21, 22, 23, 24, 25, 26, 27, 28, 29, 30, 31, 32, 33, 34, 35, 36, 37, 38, 39], \"y\": [600.0, 223.73200573676345, 140.96581663074699, 114.42714544645855, 91.07297664109797, 80.21212041228328, 72.64564906266243, 62.81665155480752, 54.34294607489977, 47.336351480477305, 43.06708558014046, 39.54618735076396, 38.671795927362396, 35.247437556729956, 32.28810650350738, 31.657082503471297, 30.36267509399952, 27.66306787390974, 26.599023180971567, 23.943907921658887, 23.690372177908433, 21.69057062362491, 21.522267065844126, 20.204771861225048, 20.155531796692934, 18.512856428915125, 18.315099618843128, 17.174059193695133, 16.658417006348834, 15.97953027045824, 15.155675363305336, 14.986355907766237, 14.449145982922182, 13.727598273860153, 13.393086423924528, 12.834101859849095, 12.556392481103035, 12.050148192777899, 11.470779212700338]}],\n",
       "                        {\"paper_bgcolor\": \"rgba(0,0,0,0)\", \"plot_bgcolor\": \"rgba(0,0,0,0)\", \"template\": {\"data\": {\"bar\": [{\"error_x\": {\"color\": \"#2a3f5f\"}, \"error_y\": {\"color\": \"#2a3f5f\"}, \"marker\": {\"line\": {\"color\": \"#E5ECF6\", \"width\": 0.5}}, \"type\": \"bar\"}], \"barpolar\": [{\"marker\": {\"line\": {\"color\": \"#E5ECF6\", \"width\": 0.5}}, \"type\": \"barpolar\"}], \"carpet\": [{\"aaxis\": {\"endlinecolor\": \"#2a3f5f\", \"gridcolor\": \"white\", \"linecolor\": \"white\", \"minorgridcolor\": \"white\", \"startlinecolor\": \"#2a3f5f\"}, \"baxis\": {\"endlinecolor\": \"#2a3f5f\", \"gridcolor\": \"white\", \"linecolor\": \"white\", \"minorgridcolor\": \"white\", \"startlinecolor\": \"#2a3f5f\"}, \"type\": \"carpet\"}], \"choropleth\": [{\"colorbar\": {\"outlinewidth\": 0, \"ticks\": \"\"}, \"type\": \"choropleth\"}], \"contour\": [{\"colorbar\": {\"outlinewidth\": 0, \"ticks\": \"\"}, \"colorscale\": [[0.0, \"#0d0887\"], [0.1111111111111111, \"#46039f\"], [0.2222222222222222, \"#7201a8\"], [0.3333333333333333, \"#9c179e\"], [0.4444444444444444, \"#bd3786\"], [0.5555555555555556, \"#d8576b\"], [0.6666666666666666, \"#ed7953\"], [0.7777777777777778, \"#fb9f3a\"], [0.8888888888888888, \"#fdca26\"], [1.0, \"#f0f921\"]], \"type\": \"contour\"}], \"contourcarpet\": [{\"colorbar\": {\"outlinewidth\": 0, \"ticks\": \"\"}, \"type\": \"contourcarpet\"}], \"heatmap\": [{\"colorbar\": {\"outlinewidth\": 0, \"ticks\": \"\"}, \"colorscale\": [[0.0, \"#0d0887\"], [0.1111111111111111, \"#46039f\"], [0.2222222222222222, \"#7201a8\"], [0.3333333333333333, \"#9c179e\"], [0.4444444444444444, \"#bd3786\"], [0.5555555555555556, \"#d8576b\"], [0.6666666666666666, \"#ed7953\"], [0.7777777777777778, \"#fb9f3a\"], [0.8888888888888888, \"#fdca26\"], [1.0, \"#f0f921\"]], \"type\": \"heatmap\"}], \"heatmapgl\": [{\"colorbar\": {\"outlinewidth\": 0, \"ticks\": \"\"}, \"colorscale\": [[0.0, \"#0d0887\"], [0.1111111111111111, \"#46039f\"], [0.2222222222222222, \"#7201a8\"], [0.3333333333333333, \"#9c179e\"], [0.4444444444444444, \"#bd3786\"], [0.5555555555555556, \"#d8576b\"], [0.6666666666666666, \"#ed7953\"], [0.7777777777777778, \"#fb9f3a\"], [0.8888888888888888, \"#fdca26\"], [1.0, \"#f0f921\"]], \"type\": \"heatmapgl\"}], \"histogram\": [{\"marker\": {\"colorbar\": {\"outlinewidth\": 0, \"ticks\": \"\"}}, \"type\": \"histogram\"}], \"histogram2d\": [{\"colorbar\": {\"outlinewidth\": 0, \"ticks\": \"\"}, \"colorscale\": [[0.0, \"#0d0887\"], [0.1111111111111111, \"#46039f\"], [0.2222222222222222, \"#7201a8\"], [0.3333333333333333, \"#9c179e\"], [0.4444444444444444, \"#bd3786\"], [0.5555555555555556, \"#d8576b\"], [0.6666666666666666, \"#ed7953\"], [0.7777777777777778, \"#fb9f3a\"], [0.8888888888888888, \"#fdca26\"], [1.0, \"#f0f921\"]], \"type\": \"histogram2d\"}], \"histogram2dcontour\": [{\"colorbar\": {\"outlinewidth\": 0, \"ticks\": \"\"}, \"colorscale\": [[0.0, \"#0d0887\"], [0.1111111111111111, \"#46039f\"], [0.2222222222222222, \"#7201a8\"], [0.3333333333333333, \"#9c179e\"], [0.4444444444444444, \"#bd3786\"], [0.5555555555555556, \"#d8576b\"], [0.6666666666666666, \"#ed7953\"], [0.7777777777777778, \"#fb9f3a\"], [0.8888888888888888, \"#fdca26\"], [1.0, \"#f0f921\"]], \"type\": \"histogram2dcontour\"}], \"mesh3d\": [{\"colorbar\": {\"outlinewidth\": 0, \"ticks\": \"\"}, \"type\": \"mesh3d\"}], \"parcoords\": [{\"line\": {\"colorbar\": {\"outlinewidth\": 0, \"ticks\": \"\"}}, \"type\": \"parcoords\"}], \"scatter\": [{\"marker\": {\"colorbar\": {\"outlinewidth\": 0, \"ticks\": \"\"}}, \"type\": \"scatter\"}], \"scatter3d\": [{\"line\": {\"colorbar\": {\"outlinewidth\": 0, \"ticks\": \"\"}}, \"marker\": {\"colorbar\": {\"outlinewidth\": 0, \"ticks\": \"\"}}, \"type\": \"scatter3d\"}], \"scattercarpet\": [{\"marker\": {\"colorbar\": {\"outlinewidth\": 0, \"ticks\": \"\"}}, \"type\": \"scattercarpet\"}], \"scattergeo\": [{\"marker\": {\"colorbar\": {\"outlinewidth\": 0, \"ticks\": \"\"}}, \"type\": \"scattergeo\"}], \"scattergl\": [{\"marker\": {\"colorbar\": {\"outlinewidth\": 0, \"ticks\": \"\"}}, \"type\": \"scattergl\"}], \"scattermapbox\": [{\"marker\": {\"colorbar\": {\"outlinewidth\": 0, \"ticks\": \"\"}}, \"type\": \"scattermapbox\"}], \"scatterpolar\": [{\"marker\": {\"colorbar\": {\"outlinewidth\": 0, \"ticks\": \"\"}}, \"type\": \"scatterpolar\"}], \"scatterpolargl\": [{\"marker\": {\"colorbar\": {\"outlinewidth\": 0, \"ticks\": \"\"}}, \"type\": \"scatterpolargl\"}], \"scatterternary\": [{\"marker\": {\"colorbar\": {\"outlinewidth\": 0, \"ticks\": \"\"}}, \"type\": \"scatterternary\"}], \"surface\": [{\"colorbar\": {\"outlinewidth\": 0, \"ticks\": \"\"}, \"colorscale\": [[0.0, \"#0d0887\"], [0.1111111111111111, \"#46039f\"], [0.2222222222222222, \"#7201a8\"], [0.3333333333333333, \"#9c179e\"], [0.4444444444444444, \"#bd3786\"], [0.5555555555555556, \"#d8576b\"], [0.6666666666666666, \"#ed7953\"], [0.7777777777777778, \"#fb9f3a\"], [0.8888888888888888, \"#fdca26\"], [1.0, \"#f0f921\"]], \"type\": \"surface\"}], \"table\": [{\"cells\": {\"fill\": {\"color\": \"#EBF0F8\"}, \"line\": {\"color\": \"white\"}}, \"header\": {\"fill\": {\"color\": \"#C8D4E3\"}, \"line\": {\"color\": \"white\"}}, \"type\": \"table\"}]}, \"layout\": {\"annotationdefaults\": {\"arrowcolor\": \"#2a3f5f\", \"arrowhead\": 0, \"arrowwidth\": 1}, \"colorscale\": {\"diverging\": [[0, \"#8e0152\"], [0.1, \"#c51b7d\"], [0.2, \"#de77ae\"], [0.3, \"#f1b6da\"], [0.4, \"#fde0ef\"], [0.5, \"#f7f7f7\"], [0.6, \"#e6f5d0\"], [0.7, \"#b8e186\"], [0.8, \"#7fbc41\"], [0.9, \"#4d9221\"], [1, \"#276419\"]], \"sequential\": [[0.0, \"#0d0887\"], [0.1111111111111111, \"#46039f\"], [0.2222222222222222, \"#7201a8\"], [0.3333333333333333, \"#9c179e\"], [0.4444444444444444, \"#bd3786\"], [0.5555555555555556, \"#d8576b\"], [0.6666666666666666, \"#ed7953\"], [0.7777777777777778, \"#fb9f3a\"], [0.8888888888888888, \"#fdca26\"], [1.0, \"#f0f921\"]], \"sequentialminus\": [[0.0, \"#0d0887\"], [0.1111111111111111, \"#46039f\"], [0.2222222222222222, \"#7201a8\"], [0.3333333333333333, \"#9c179e\"], [0.4444444444444444, \"#bd3786\"], [0.5555555555555556, \"#d8576b\"], [0.6666666666666666, \"#ed7953\"], [0.7777777777777778, \"#fb9f3a\"], [0.8888888888888888, \"#fdca26\"], [1.0, \"#f0f921\"]]}, \"colorway\": [\"#636efa\", \"#EF553B\", \"#00cc96\", \"#ab63fa\", \"#FFA15A\", \"#19d3f3\", \"#FF6692\", \"#B6E880\", \"#FF97FF\", \"#FECB52\"], \"font\": {\"color\": \"#2a3f5f\"}, \"geo\": {\"bgcolor\": \"white\", \"lakecolor\": \"white\", \"landcolor\": \"#E5ECF6\", \"showlakes\": true, \"showland\": true, \"subunitcolor\": \"white\"}, \"hoverlabel\": {\"align\": \"left\"}, \"hovermode\": \"closest\", \"mapbox\": {\"style\": \"light\"}, \"paper_bgcolor\": \"white\", \"plot_bgcolor\": \"#E5ECF6\", \"polar\": {\"angularaxis\": {\"gridcolor\": \"white\", \"linecolor\": \"white\", \"ticks\": \"\"}, \"bgcolor\": \"#E5ECF6\", \"radialaxis\": {\"gridcolor\": \"white\", \"linecolor\": \"white\", \"ticks\": \"\"}}, \"scene\": {\"xaxis\": {\"backgroundcolor\": \"#E5ECF6\", \"gridcolor\": \"white\", \"gridwidth\": 2, \"linecolor\": \"white\", \"showbackground\": true, \"ticks\": \"\", \"zerolinecolor\": \"white\"}, \"yaxis\": {\"backgroundcolor\": \"#E5ECF6\", \"gridcolor\": \"white\", \"gridwidth\": 2, \"linecolor\": \"white\", \"showbackground\": true, \"ticks\": \"\", \"zerolinecolor\": \"white\"}, \"zaxis\": {\"backgroundcolor\": \"#E5ECF6\", \"gridcolor\": \"white\", \"gridwidth\": 2, \"linecolor\": \"white\", \"showbackground\": true, \"ticks\": \"\", \"zerolinecolor\": \"white\"}}, \"shapedefaults\": {\"line\": {\"color\": \"#2a3f5f\"}}, \"ternary\": {\"aaxis\": {\"gridcolor\": \"white\", \"linecolor\": \"white\", \"ticks\": \"\"}, \"baxis\": {\"gridcolor\": \"white\", \"linecolor\": \"white\", \"ticks\": \"\"}, \"bgcolor\": \"#E5ECF6\", \"caxis\": {\"gridcolor\": \"white\", \"linecolor\": \"white\", \"ticks\": \"\"}}, \"title\": {\"x\": 0.05}, \"xaxis\": {\"automargin\": true, \"gridcolor\": \"white\", \"linecolor\": \"white\", \"ticks\": \"\", \"zerolinecolor\": \"white\", \"zerolinewidth\": 2}, \"yaxis\": {\"automargin\": true, \"gridcolor\": \"white\", \"linecolor\": \"white\", \"ticks\": \"\", \"zerolinecolor\": \"white\", \"zerolinewidth\": 2}}}, \"title\": {\"text\": \"Computing WCSS for KMeans++\"}, \"xaxis\": {\"title\": {\"text\": \"Number of clusters\"}}, \"yaxis\": {\"title\": {\"text\": \"Sum of squared errors\"}}},\n",
       "                        {\"responsive\": true}\n",
       "                    ).then(function(){\n",
       "                            \n",
       "var gd = document.getElementById('827aee9c-9dd3-4786-aaf7-b98f103f6dc7');\n",
       "var x = new MutationObserver(function (mutations, observer) {{\n",
       "        var display = window.getComputedStyle(gd).display;\n",
       "        if (!display || display === 'none') {{\n",
       "            console.log([gd, 'removed!']);\n",
       "            Plotly.purge(gd);\n",
       "            observer.disconnect();\n",
       "        }}\n",
       "}});\n",
       "\n",
       "// Listen for the removal of the full notebook cells\n",
       "var notebookContainer = gd.closest('#notebook-container');\n",
       "if (notebookContainer) {{\n",
       "    x.observe(notebookContainer, {childList: true});\n",
       "}}\n",
       "\n",
       "// Listen for the clearing of the current output cell\n",
       "var outputEl = gd.closest('.output');\n",
       "if (outputEl) {{\n",
       "    x.observe(outputEl, {childList: true});\n",
       "}}\n",
       "\n",
       "                        })\n",
       "                };\n",
       "                });\n",
       "            </script>\n",
       "        </div>"
      ]
     },
     "metadata": {},
     "output_type": "display_data"
    }
   ],
   "source": [
    "data = {\n",
    "                \"type\": \"scatter\",\n",
    "                \"x\": clusters,\n",
    "                \"y\": wcss\n",
    "            }\n",
    "\n",
    "data = Data([data])\n",
    "layout = go.Layout(\n",
    "    title=\"Computing WCSS for KMeans++\",\n",
    "    yaxis=dict(title='Sum of squared errors'),\n",
    "    xaxis=dict(title='Number of clusters'),\n",
    "    paper_bgcolor='rgba(0,0,0,0)',\n",
    "    plot_bgcolor='rgba(0,0,0,0)'\n",
    ")\n",
    "\n",
    "fig = Figure(data=data, layout=layout)\n",
    "fig.show()"
   ]
  },
  {
   "cell_type": "markdown",
   "metadata": {},
   "source": [
    "as per above graph 5 clusters seems good to proceed further"
   ]
  },
  {
   "cell_type": "code",
   "execution_count": 24,
   "metadata": {
    "execution": {
     "iopub.execute_input": "2022-05-24T16:30:51.724594Z",
     "iopub.status.busy": "2022-05-24T16:30:51.724042Z",
     "iopub.status.idle": "2022-05-24T16:30:51.729303Z",
     "shell.execute_reply": "2022-05-24T16:30:51.728483Z",
     "shell.execute_reply.started": "2022-05-24T16:30:51.724527Z"
    }
   },
   "outputs": [],
   "source": [
    "kmeans = KMeans(n_clusters=5, init=\"k-means++\", n_init=10,\n",
    "                    max_iter=300)"
   ]
  },
  {
   "cell_type": "code",
   "execution_count": 25,
   "metadata": {
    "execution": {
     "iopub.execute_input": "2022-05-24T16:30:51.730893Z",
     "iopub.status.busy": "2022-05-24T16:30:51.730646Z",
     "iopub.status.idle": "2022-05-24T16:30:51.742677Z",
     "shell.execute_reply": "2022-05-24T16:30:51.742013Z",
     "shell.execute_reply.started": "2022-05-24T16:30:51.730848Z"
    }
   },
   "outputs": [
    {
     "data": {
      "text/plain": [
       "KMeans(algorithm='auto', copy_x=True, init='k-means++', max_iter=300,\n",
       "       n_clusters=5, n_init=10, n_jobs=None, precompute_distances='auto',\n",
       "       random_state=None, tol=0.0001, verbose=0)"
      ]
     },
     "execution_count": 25,
     "metadata": {},
     "output_type": "execute_result"
    }
   ],
   "source": [
    "kmeans"
   ]
  },
  {
   "cell_type": "code",
   "execution_count": 26,
   "metadata": {
    "execution": {
     "iopub.execute_input": "2022-05-24T16:30:51.744024Z",
     "iopub.status.busy": "2022-05-24T16:30:51.743698Z",
     "iopub.status.idle": "2022-05-24T16:30:51.785175Z",
     "shell.execute_reply": "2022-05-24T16:30:51.784448Z",
     "shell.execute_reply.started": "2022-05-24T16:30:51.743989Z"
    }
   },
   "outputs": [
    {
     "data": {
      "text/plain": [
       "KMeans(algorithm='auto', copy_x=True, init='k-means++', max_iter=300,\n",
       "       n_clusters=5, n_init=10, n_jobs=None, precompute_distances='auto',\n",
       "       random_state=None, tol=0.0001, verbose=0)"
      ]
     },
     "execution_count": 26,
     "metadata": {},
     "output_type": "execute_result"
    }
   ],
   "source": [
    "kmeans.fit(decomposed_df)"
   ]
  },
  {
   "cell_type": "code",
   "execution_count": 27,
   "metadata": {
    "execution": {
     "iopub.execute_input": "2022-05-24T16:30:51.786764Z",
     "iopub.status.busy": "2022-05-24T16:30:51.786373Z",
     "iopub.status.idle": "2022-05-24T16:30:51.794077Z",
     "shell.execute_reply": "2022-05-24T16:30:51.793151Z",
     "shell.execute_reply.started": "2022-05-24T16:30:51.786571Z"
    }
   },
   "outputs": [
    {
     "data": {
      "text/plain": [
       "array([4, 1, 1, 1, 4, 4, 1, 1, 1, 1, 4, 1, 1, 1, 4, 4, 4, 4, 4, 4, 4, 4,\n",
       "       4, 1, 1, 1, 1, 4, 1, 1, 1, 4, 4, 4, 1, 1, 4, 1, 1, 1, 4, 1, 1, 4,\n",
       "       4, 1, 4, 1, 4, 1, 2, 3, 3, 0, 3, 3, 3, 0, 3, 0, 0, 3, 0, 3, 0, 3,\n",
       "       3, 0, 0, 0, 3, 3, 3, 3, 3, 3, 3, 3, 3, 0, 0, 0, 0, 3, 3, 3, 3, 0,\n",
       "       3, 0, 0, 3, 0, 0, 0, 3, 3, 3, 0, 0, 2, 3, 2, 3, 2, 2, 0, 2, 3, 2,\n",
       "       2, 3, 2, 0, 3, 2, 3, 2, 2, 0, 2, 3, 2, 3, 2, 2, 3, 3, 3, 2, 2, 2,\n",
       "       3, 3, 3, 2, 2, 3, 3, 2, 2, 2, 3, 2, 2, 2, 3, 3, 2, 3], dtype=int32)"
      ]
     },
     "execution_count": 27,
     "metadata": {},
     "output_type": "execute_result"
    }
   ],
   "source": [
    "kmeans.labels_"
   ]
  },
  {
   "cell_type": "markdown",
   "metadata": {},
   "source": [
    "#### adding cluters into original dataframe"
   ]
  },
  {
   "cell_type": "code",
   "execution_count": 28,
   "metadata": {
    "execution": {
     "iopub.execute_input": "2022-05-24T16:30:51.795556Z",
     "iopub.status.busy": "2022-05-24T16:30:51.795142Z",
     "iopub.status.idle": "2022-05-24T16:30:51.805976Z",
     "shell.execute_reply": "2022-05-24T16:30:51.804725Z",
     "shell.execute_reply.started": "2022-05-24T16:30:51.795491Z"
    }
   },
   "outputs": [],
   "source": [
    "dataset.insert(loc=0, column='clusters', value=pd.Series(kmeans.labels_).astype(int))"
   ]
  },
  {
   "cell_type": "code",
   "execution_count": 29,
   "metadata": {
    "execution": {
     "iopub.execute_input": "2022-05-24T16:30:51.807422Z",
     "iopub.status.busy": "2022-05-24T16:30:51.807159Z",
     "iopub.status.idle": "2022-05-24T16:30:51.826261Z",
     "shell.execute_reply": "2022-05-24T16:30:51.825412Z",
     "shell.execute_reply.started": "2022-05-24T16:30:51.807376Z"
    }
   },
   "outputs": [
    {
     "data": {
      "text/html": [
       "<div>\n",
       "<style scoped>\n",
       "    .dataframe tbody tr th:only-of-type {\n",
       "        vertical-align: middle;\n",
       "    }\n",
       "\n",
       "    .dataframe tbody tr th {\n",
       "        vertical-align: top;\n",
       "    }\n",
       "\n",
       "    .dataframe thead th {\n",
       "        text-align: right;\n",
       "    }\n",
       "</style>\n",
       "<table border=\"1\" class=\"dataframe\">\n",
       "  <thead>\n",
       "    <tr style=\"text-align: right;\">\n",
       "      <th></th>\n",
       "      <th>clusters</th>\n",
       "      <th>sepal_length</th>\n",
       "      <th>sepal_width</th>\n",
       "      <th>petal_length</th>\n",
       "      <th>petal_width</th>\n",
       "    </tr>\n",
       "  </thead>\n",
       "  <tbody>\n",
       "    <tr>\n",
       "      <td>0</td>\n",
       "      <td>4</td>\n",
       "      <td>-0.900681</td>\n",
       "      <td>1.032057</td>\n",
       "      <td>-1.341272</td>\n",
       "      <td>-1.312977</td>\n",
       "    </tr>\n",
       "    <tr>\n",
       "      <td>1</td>\n",
       "      <td>1</td>\n",
       "      <td>-1.143017</td>\n",
       "      <td>-0.124958</td>\n",
       "      <td>-1.341272</td>\n",
       "      <td>-1.312977</td>\n",
       "    </tr>\n",
       "    <tr>\n",
       "      <td>2</td>\n",
       "      <td>1</td>\n",
       "      <td>-1.385353</td>\n",
       "      <td>0.337848</td>\n",
       "      <td>-1.398138</td>\n",
       "      <td>-1.312977</td>\n",
       "    </tr>\n",
       "    <tr>\n",
       "      <td>3</td>\n",
       "      <td>1</td>\n",
       "      <td>-1.506521</td>\n",
       "      <td>0.106445</td>\n",
       "      <td>-1.284407</td>\n",
       "      <td>-1.312977</td>\n",
       "    </tr>\n",
       "    <tr>\n",
       "      <td>4</td>\n",
       "      <td>4</td>\n",
       "      <td>-1.021849</td>\n",
       "      <td>1.263460</td>\n",
       "      <td>-1.341272</td>\n",
       "      <td>-1.312977</td>\n",
       "    </tr>\n",
       "    <tr>\n",
       "      <td>5</td>\n",
       "      <td>4</td>\n",
       "      <td>-0.537178</td>\n",
       "      <td>1.957669</td>\n",
       "      <td>-1.170675</td>\n",
       "      <td>-1.050031</td>\n",
       "    </tr>\n",
       "    <tr>\n",
       "      <td>6</td>\n",
       "      <td>1</td>\n",
       "      <td>-1.506521</td>\n",
       "      <td>0.800654</td>\n",
       "      <td>-1.341272</td>\n",
       "      <td>-1.181504</td>\n",
       "    </tr>\n",
       "    <tr>\n",
       "      <td>7</td>\n",
       "      <td>1</td>\n",
       "      <td>-1.021849</td>\n",
       "      <td>0.800654</td>\n",
       "      <td>-1.284407</td>\n",
       "      <td>-1.312977</td>\n",
       "    </tr>\n",
       "    <tr>\n",
       "      <td>8</td>\n",
       "      <td>1</td>\n",
       "      <td>-1.748856</td>\n",
       "      <td>-0.356361</td>\n",
       "      <td>-1.341272</td>\n",
       "      <td>-1.312977</td>\n",
       "    </tr>\n",
       "    <tr>\n",
       "      <td>9</td>\n",
       "      <td>1</td>\n",
       "      <td>-1.143017</td>\n",
       "      <td>0.106445</td>\n",
       "      <td>-1.284407</td>\n",
       "      <td>-1.444450</td>\n",
       "    </tr>\n",
       "  </tbody>\n",
       "</table>\n",
       "</div>"
      ],
      "text/plain": [
       "   clusters  sepal_length  sepal_width  petal_length  petal_width\n",
       "0         4     -0.900681     1.032057     -1.341272    -1.312977\n",
       "1         1     -1.143017    -0.124958     -1.341272    -1.312977\n",
       "2         1     -1.385353     0.337848     -1.398138    -1.312977\n",
       "3         1     -1.506521     0.106445     -1.284407    -1.312977\n",
       "4         4     -1.021849     1.263460     -1.341272    -1.312977\n",
       "5         4     -0.537178     1.957669     -1.170675    -1.050031\n",
       "6         1     -1.506521     0.800654     -1.341272    -1.181504\n",
       "7         1     -1.021849     0.800654     -1.284407    -1.312977\n",
       "8         1     -1.748856    -0.356361     -1.341272    -1.312977\n",
       "9         1     -1.143017     0.106445     -1.284407    -1.444450"
      ]
     },
     "execution_count": 29,
     "metadata": {},
     "output_type": "execute_result"
    }
   ],
   "source": [
    "dataset.head(10)"
   ]
  },
  {
   "cell_type": "markdown",
   "metadata": {},
   "source": [
    "#### adding clusters colums to decomposed dataframe for plotting the cluters"
   ]
  },
  {
   "cell_type": "code",
   "execution_count": 30,
   "metadata": {
    "execution": {
     "iopub.execute_input": "2022-05-24T16:30:51.828158Z",
     "iopub.status.busy": "2022-05-24T16:30:51.827657Z",
     "iopub.status.idle": "2022-05-24T16:30:51.837100Z",
     "shell.execute_reply": "2022-05-24T16:30:51.836412Z",
     "shell.execute_reply.started": "2022-05-24T16:30:51.828103Z"
    }
   },
   "outputs": [],
   "source": [
    "decomposed_df.insert(loc=0, column='clusters', value=pd.Series(kmeans.labels_).astype(int))"
   ]
  },
  {
   "cell_type": "code",
   "execution_count": 31,
   "metadata": {
    "execution": {
     "iopub.execute_input": "2022-05-24T16:30:51.838857Z",
     "iopub.status.busy": "2022-05-24T16:30:51.838432Z",
     "iopub.status.idle": "2022-05-24T16:30:51.852256Z",
     "shell.execute_reply": "2022-05-24T16:30:51.851559Z",
     "shell.execute_reply.started": "2022-05-24T16:30:51.838659Z"
    }
   },
   "outputs": [
    {
     "data": {
      "text/plain": [
       "3    48\n",
       "2    28\n",
       "1    27\n",
       "0    24\n",
       "4    23\n",
       "Name: clusters, dtype: int64"
      ]
     },
     "execution_count": 31,
     "metadata": {},
     "output_type": "execute_result"
    }
   ],
   "source": [
    "dataset['clusters'].value_counts()"
   ]
  },
  {
   "cell_type": "markdown",
   "metadata": {},
   "source": [
    "* seems clusters1 has max datapoints"
   ]
  },
  {
   "cell_type": "code",
   "execution_count": 32,
   "metadata": {
    "execution": {
     "iopub.execute_input": "2022-05-24T16:30:51.856909Z",
     "iopub.status.busy": "2022-05-24T16:30:51.856158Z",
     "iopub.status.idle": "2022-05-24T16:30:51.862768Z",
     "shell.execute_reply": "2022-05-24T16:30:51.861746Z",
     "shell.execute_reply.started": "2022-05-24T16:30:51.856535Z"
    }
   },
   "outputs": [
    {
     "data": {
      "text/plain": [
       "array([[ 0.27615595, -1.35333692],\n",
       "       [-2.22501183, -0.38034813],\n",
       "       [ 2.05721014,  0.85674839],\n",
       "       [ 0.97458411, -0.12750229],\n",
       "       [-2.21453673,  1.08176698]])"
      ]
     },
     "execution_count": 32,
     "metadata": {},
     "output_type": "execute_result"
    }
   ],
   "source": [
    "kmeans.cluster_centers_"
   ]
  },
  {
   "cell_type": "markdown",
   "metadata": {},
   "source": [
    "#### creating dataframe for centers"
   ]
  },
  {
   "cell_type": "code",
   "execution_count": 33,
   "metadata": {
    "execution": {
     "iopub.execute_input": "2022-05-24T16:30:51.864666Z",
     "iopub.status.busy": "2022-05-24T16:30:51.864128Z",
     "iopub.status.idle": "2022-05-24T16:30:51.871524Z",
     "shell.execute_reply": "2022-05-24T16:30:51.870879Z",
     "shell.execute_reply.started": "2022-05-24T16:30:51.864431Z"
    }
   },
   "outputs": [],
   "source": [
    "centroid_df = pd.DataFrame(kmeans.cluster_centers_, columns = decomposed_df.columns[1:])"
   ]
  },
  {
   "cell_type": "code",
   "execution_count": 34,
   "metadata": {
    "execution": {
     "iopub.execute_input": "2022-05-24T16:30:51.873604Z",
     "iopub.status.busy": "2022-05-24T16:30:51.873008Z",
     "iopub.status.idle": "2022-05-24T16:30:51.892565Z",
     "shell.execute_reply": "2022-05-24T16:30:51.891594Z",
     "shell.execute_reply.started": "2022-05-24T16:30:51.873486Z"
    },
    "scrolled": true
   },
   "outputs": [
    {
     "data": {
      "text/html": [
       "<div>\n",
       "<style scoped>\n",
       "    .dataframe tbody tr th:only-of-type {\n",
       "        vertical-align: middle;\n",
       "    }\n",
       "\n",
       "    .dataframe tbody tr th {\n",
       "        vertical-align: top;\n",
       "    }\n",
       "\n",
       "    .dataframe thead th {\n",
       "        text-align: right;\n",
       "    }\n",
       "</style>\n",
       "<table border=\"1\" class=\"dataframe\">\n",
       "  <thead>\n",
       "    <tr style=\"text-align: right;\">\n",
       "      <th></th>\n",
       "      <th>component#0</th>\n",
       "      <th>component#1</th>\n",
       "    </tr>\n",
       "  </thead>\n",
       "  <tbody>\n",
       "    <tr>\n",
       "      <td>0</td>\n",
       "      <td>0.276156</td>\n",
       "      <td>-1.353337</td>\n",
       "    </tr>\n",
       "    <tr>\n",
       "      <td>1</td>\n",
       "      <td>-2.225012</td>\n",
       "      <td>-0.380348</td>\n",
       "    </tr>\n",
       "    <tr>\n",
       "      <td>2</td>\n",
       "      <td>2.057210</td>\n",
       "      <td>0.856748</td>\n",
       "    </tr>\n",
       "    <tr>\n",
       "      <td>3</td>\n",
       "      <td>0.974584</td>\n",
       "      <td>-0.127502</td>\n",
       "    </tr>\n",
       "    <tr>\n",
       "      <td>4</td>\n",
       "      <td>-2.214537</td>\n",
       "      <td>1.081767</td>\n",
       "    </tr>\n",
       "  </tbody>\n",
       "</table>\n",
       "</div>"
      ],
      "text/plain": [
       "   component#0  component#1\n",
       "0     0.276156    -1.353337\n",
       "1    -2.225012    -0.380348\n",
       "2     2.057210     0.856748\n",
       "3     0.974584    -0.127502\n",
       "4    -2.214537     1.081767"
      ]
     },
     "execution_count": 34,
     "metadata": {},
     "output_type": "execute_result"
    }
   ],
   "source": [
    "centroid_df.head()"
   ]
  },
  {
   "cell_type": "code",
   "execution_count": 35,
   "metadata": {
    "execution": {
     "iopub.execute_input": "2022-05-24T16:30:51.894069Z",
     "iopub.status.busy": "2022-05-24T16:30:51.893699Z",
     "iopub.status.idle": "2022-05-24T16:30:51.910619Z",
     "shell.execute_reply": "2022-05-24T16:30:51.909519Z",
     "shell.execute_reply.started": "2022-05-24T16:30:51.894031Z"
    },
    "scrolled": true
   },
   "outputs": [
    {
     "data": {
      "text/html": [
       "<div>\n",
       "<style scoped>\n",
       "    .dataframe tbody tr th:only-of-type {\n",
       "        vertical-align: middle;\n",
       "    }\n",
       "\n",
       "    .dataframe tbody tr th {\n",
       "        vertical-align: top;\n",
       "    }\n",
       "\n",
       "    .dataframe thead th {\n",
       "        text-align: right;\n",
       "    }\n",
       "</style>\n",
       "<table border=\"1\" class=\"dataframe\">\n",
       "  <thead>\n",
       "    <tr style=\"text-align: right;\">\n",
       "      <th></th>\n",
       "      <th>clusters</th>\n",
       "      <th>sepal_length</th>\n",
       "      <th>sepal_width</th>\n",
       "      <th>petal_length</th>\n",
       "      <th>petal_width</th>\n",
       "    </tr>\n",
       "  </thead>\n",
       "  <tbody>\n",
       "    <tr>\n",
       "      <td>0</td>\n",
       "      <td>4</td>\n",
       "      <td>-0.900681</td>\n",
       "      <td>1.032057</td>\n",
       "      <td>-1.341272</td>\n",
       "      <td>-1.312977</td>\n",
       "    </tr>\n",
       "    <tr>\n",
       "      <td>1</td>\n",
       "      <td>1</td>\n",
       "      <td>-1.143017</td>\n",
       "      <td>-0.124958</td>\n",
       "      <td>-1.341272</td>\n",
       "      <td>-1.312977</td>\n",
       "    </tr>\n",
       "    <tr>\n",
       "      <td>2</td>\n",
       "      <td>1</td>\n",
       "      <td>-1.385353</td>\n",
       "      <td>0.337848</td>\n",
       "      <td>-1.398138</td>\n",
       "      <td>-1.312977</td>\n",
       "    </tr>\n",
       "    <tr>\n",
       "      <td>3</td>\n",
       "      <td>1</td>\n",
       "      <td>-1.506521</td>\n",
       "      <td>0.106445</td>\n",
       "      <td>-1.284407</td>\n",
       "      <td>-1.312977</td>\n",
       "    </tr>\n",
       "    <tr>\n",
       "      <td>4</td>\n",
       "      <td>4</td>\n",
       "      <td>-1.021849</td>\n",
       "      <td>1.263460</td>\n",
       "      <td>-1.341272</td>\n",
       "      <td>-1.312977</td>\n",
       "    </tr>\n",
       "  </tbody>\n",
       "</table>\n",
       "</div>"
      ],
      "text/plain": [
       "   clusters  sepal_length  sepal_width  petal_length  petal_width\n",
       "0         4     -0.900681     1.032057     -1.341272    -1.312977\n",
       "1         1     -1.143017    -0.124958     -1.341272    -1.312977\n",
       "2         1     -1.385353     0.337848     -1.398138    -1.312977\n",
       "3         1     -1.506521     0.106445     -1.284407    -1.312977\n",
       "4         4     -1.021849     1.263460     -1.341272    -1.312977"
      ]
     },
     "execution_count": 35,
     "metadata": {},
     "output_type": "execute_result"
    }
   ],
   "source": [
    "dataset.head()"
   ]
  },
  {
   "cell_type": "code",
   "execution_count": 36,
   "metadata": {
    "execution": {
     "iopub.execute_input": "2022-05-24T16:30:51.912672Z",
     "iopub.status.busy": "2022-05-24T16:30:51.912138Z",
     "iopub.status.idle": "2022-05-24T16:30:51.919193Z",
     "shell.execute_reply": "2022-05-24T16:30:51.918321Z",
     "shell.execute_reply.started": "2022-05-24T16:30:51.912615Z"
    }
   },
   "outputs": [
    {
     "data": {
      "text/plain": [
       "Index(['clusters', 'component#0', 'component#1'], dtype='object')"
      ]
     },
     "execution_count": 36,
     "metadata": {},
     "output_type": "execute_result"
    }
   ],
   "source": [
    "decomposed_df.columns"
   ]
  },
  {
   "cell_type": "code",
   "execution_count": 37,
   "metadata": {
    "execution": {
     "iopub.execute_input": "2022-05-24T16:30:51.921375Z",
     "iopub.status.busy": "2022-05-24T16:30:51.920686Z",
     "iopub.status.idle": "2022-05-24T16:30:52.226979Z",
     "shell.execute_reply": "2022-05-24T16:30:52.226080Z",
     "shell.execute_reply.started": "2022-05-24T16:30:51.921308Z"
    }
   },
   "outputs": [
    {
     "name": "stderr",
     "output_type": "stream",
     "text": [
      "/opt/conda/lib/python3.6/site-packages/plotly/graph_objs/_deprecations.py:40: DeprecationWarning:\n",
      "\n",
      "plotly.graph_objs.Data is deprecated.\n",
      "Please replace it with a list or tuple of instances of the following types\n",
      "  - plotly.graph_objs.Scatter\n",
      "  - plotly.graph_objs.Bar\n",
      "  - plotly.graph_objs.Area\n",
      "  - plotly.graph_objs.Histogram\n",
      "  - etc.\n",
      "\n",
      "\n"
     ]
    },
    {
     "data": {
      "text/html": [
       "<div>\n",
       "        \n",
       "        \n",
       "            <div id=\"ea8e83ae-03c7-4055-b9cf-6ce8c683339a\" class=\"plotly-graph-div\" style=\"height:525px; width:100%;\"></div>\n",
       "            <script type=\"text/javascript\">\n",
       "                require([\"plotly\"], function(Plotly) {\n",
       "                    window.PLOTLYENV=window.PLOTLYENV || {};\n",
       "                    \n",
       "                if (document.getElementById(\"ea8e83ae-03c7-4055-b9cf-6ce8c683339a\")) {\n",
       "                    Plotly.newPlot(\n",
       "                        'ea8e83ae-03c7-4055-b9cf-6ce8c683339a',\n",
       "                        [{\"marker\": {\"color\": \"teal\", \"line\": {\"color\": \"navy\", \"width\": 0.5}, \"size\": 12, \"symbol\": \"cross\"}, \"mode\": \"markers\", \"name\": \"cluster4\", \"type\": \"scatter\", \"x\": [-2.264541728394902, -2.3887774935056427, -2.070536807180554, -2.1634865562665233, -2.19229150849843, -2.2514652145840657, -2.2027504800800863, -2.1901791637910524, -1.8940742930236685, -2.3399490704234087, -1.9145563949595175, -2.204645397533814, -2.7741697937051573, -2.1681936533450217, -1.8319381022015875, -2.6082028676633486, -2.437950859095143, -2.0444165193198005, -2.2865272388409306, -1.9642792903547375, -2.1333728329200286, -2.3812582168023733, -2.226781213091519], \"y\": [0.5057039027737856, 0.6747673967025161, 1.5185485598885144, 1.0705955760377275, 1.8899785123164672, 2.7223710765744706, 1.5137502825462201, 0.5143043082206935, 1.4311107069412379, 1.158033428985002, 0.4304651632801388, 0.9524573172889991, 0.4895170265034958, 0.5520164953235407, 0.4452668355028077, 1.8284751927341027, 2.185391615630894, 0.6849564262949374, 0.4679917156709386, 0.49739164001838393, 1.171432111774205, 1.1506325928736676, 1.0254825528235456]}, {\"marker\": {\"color\": \"rgb(200,10,10)\", \"symbol\": \"cross\"}, \"name\": \"centroid4\", \"type\": \"scatter\", \"x\": [-2.21453672589484], \"y\": [1.0817669755089694]}, {\"marker\": {\"color\": \"blue\", \"line\": {\"color\": \"navy\", \"width\": 0.5}, \"size\": 12, \"symbol\": \"square\"}, \"mode\": \"markers\", \"name\": \"cluster1\", \"type\": \"scatter\", \"x\": [-2.086425500616159, -2.3679504490625254, -2.30419716115201, -2.4457113396302845, -2.2338418587092663, -2.3419576764553907, -2.1886757552808707, -2.3273777541343748, -2.224082722045003, -2.63971626084463, -1.8204115633372144, -2.228217499459726, -1.9570240073413974, -2.052063311276687, -2.1403059632841583, -2.2687901943878774, -2.1445544292771355, -2.1886757552808707, -2.2111198968124226, -2.1886757552808707, -2.4359522029660203, -2.1705472018842706, -1.8717072235369512, -2.5578344195375133, -2.075357592837307, -2.3981916876626395, -2.205954168648403], \"y\": [-0.6554047293691372, -0.3184773108472486, -0.575367712533195, 0.0745626750068747, 0.24761393175226584, -1.0951463625829554, -0.4486290483375586, 0.15858745465947663, -0.7091181580302259, -0.9382819821078539, 0.10675079283540656, 0.16218616266619756, -0.6078925674838078, 0.2660143119816558, 0.33664040884505503, -0.3148786028405278, -0.4839420967692586, -0.4486290483375586, -0.18433781054027834, -0.4486290483375586, -0.8821694147756167, 0.29272695496644696, -2.327691606114911, -0.4538163804897928, -0.6919173471364097, -0.36239076472585663, 0.03223784527378008]}, {\"marker\": {\"color\": \"rgb(200,10,10)\", \"symbol\": \"square\"}, \"name\": \"centroid1\", \"type\": \"scatter\", \"x\": [-2.225011827805258], \"y\": [-0.38034812790268857]}, {\"marker\": {\"color\": \"magenta\", \"line\": {\"color\": \"navy\", \"width\": 0.5}, \"size\": 12, \"symbol\": \"triangle-up\"}, \"mode\": \"markers\", \"name\": \"cluster2\", \"type\": \"scatter\", \"x\": [1.1039936528045726, 1.8476725943096644, 2.206349497126594, 1.8678907025555853, 2.7541967088257535, 2.3030058981503196, 2.2675545991022688, 1.3659094292022147, 1.884251853752075, 1.591809302638529, 2.437378482193509, 3.30914118267608, 2.0404962596630396, 2.8980644358432777, 1.704240708519606, 1.9577276617934363, 1.8647779127074668, 2.435497391415144, 2.3160824119611547, 2.80094940373403, 1.5801552485205375, 1.8535519840664412, 2.0161572006777595, 1.9031168585994875, 2.04330843928781, 2.0016909669349983, 1.8705220714601263, 1.376391190641928], \"y\": [0.8631124458513246, 0.871696661773413, 0.5544701049349227, 0.29119280176116896, 0.7884322063548451, 0.40951669522194345, 1.921442991465355, 0.6939480398041612, 0.41433275795008384, 0.6770353716018517, 2.5567573414948024, -0.0023613201020834837, 0.907398765015053, 0.39779135917186803, 1.0141484248357853, 1.0033345154297775, 0.5553815315789898, 0.24665446806897393, 2.6261838690226282, 0.8447481937849745, 1.0724744961271222, 0.6724227289716038, 0.6103970375551128, 0.686024831858699, 0.864684880472019, 1.0485500466234177, 0.382821837622998, 1.0163619287948857]}, {\"marker\": {\"color\": \"rgb(200,10,10)\", \"symbol\": \"triangle-up\"}, \"name\": \"centroid2\", \"type\": \"scatter\", \"x\": [2.05721014461298], \"y\": [0.8567483933230606]}, {\"marker\": {\"color\": \"green\", \"line\": {\"color\": \"navy\", \"width\": 0.5}, \"size\": 12, \"symbol\": \"diamond\"}, \"mode\": \"markers\", \"name\": \"cluster3\", \"type\": \"scatter\", \"x\": [0.7324814400086809, 1.242109505318938, 1.0725939482015456, 0.3844581461690015, 0.7487150759515532, 0.9262223675330985, 0.43873011778054677, 0.7171650662368515, 0.8758905359406833, 0.3480064019802087, 0.738256104369896, 0.4723696823445687, 1.2279882140834428, 0.629381045314902, 0.7004727992084585, 0.8735369874014338, 1.2542221905224507, 1.3582398473872723, 0.6621261375659379, 1.0566914280905768, 0.2214170883302177, 0.43178316074105344, 1.0494133552191804, 0.06706759987298026, 0.6231705397262217, 0.08905311031901136, 0.224356783208606, 0.573883485558467, 1.1531898082521295, 1.4386854023261826, 2.0017352992189172, 1.5990645856518697, 1.464061522985623, 1.4712801894655443, 0.9739151144704739, 1.329193691323494, 1.171904507987869, 1.0197810528162632, 1.7860088612484688, 1.8603714258523165, 1.1112717256759694, 1.197469155118038, 1.3470444243548023, 0.9234329777663843, 1.1531898082521295, 1.558491890723718, 1.5208450639985909, 0.959298575616038], \"y\": [0.5986355733419975, 0.6148224496122867, -0.2117579026798959, -0.5910624686227366, 0.7786986113887825, 0.03033082678338099, -0.05888128502145447, -0.185434314505044, 0.5099981510591476, -0.19062164665727788, 0.4024703816185359, -0.4166082224438798, -0.9409147925302725, -0.4168116425417724, -0.06349392765170236, 0.2507086107020539, -0.08262009981311272, 0.3288202662704019, -0.2243460709434644, -0.6369012837689374, -0.28084769308564034, 0.8551369202180029, 0.5221972645127767, -0.21262073489338879, 0.027542633302294412, -0.1749085477905417, -0.3804846594865457, -0.1537199740800651, -0.7013261138565761, -0.050010522268885686, -0.72386535931266, -0.42824883590033996, -0.4441475694791239, 0.2531924719668155, -0.5711743763662667, -0.4867605419037244, -0.3188966173105681, 0.06554296309664795, -0.19327279985689172, -0.18467239440998356, -0.2959861024303905, -0.817167741913616, 0.4222559658955462, 0.019230370546893055, -0.7013261138565761, -0.9053136014070666, 0.2667945748539107, -0.022283944660567143]}, {\"marker\": {\"color\": \"rgb(200,10,10)\", \"symbol\": \"diamond\"}, \"name\": \"centroid3\", \"type\": \"scatter\", \"x\": [0.9745841093227209], \"y\": [-0.1275022888808228]}, {\"marker\": {\"color\": \"yellow\", \"line\": {\"color\": \"navy\", \"width\": 0.5}, \"size\": 12, \"symbol\": \"circle\"}, \"mode\": \"markers\", \"name\": \"cluster0\", \"type\": \"scatter\", \"x\": [0.39730728282332745, -0.49786338779811823, 0.004968025584319044, -0.12469746138037077, 0.5516339814225081, -0.03725838296568836, 0.1533925445686671, 1.2153032092161544, 0.15694117564425075, -0.04728151331988012, 0.12153420888011873, 0.014118226051387794, 0.23601083732659697, 1.0358782103228248, 0.2754250662518342, 0.2723350662617719, 0.3300053638372266, -0.3736276226873761, 0.28294434295510285, -0.4570128725046748, 0.25224447326946925, 0.3583744748416677, 1.253086514377592, 1.2539809866905787], \"y\": [-1.7581689474435267, -1.8488687712754432, -1.0294011124030882, -2.658062677961762, -1.772581564856256, -0.43279509871416905, -0.7907254562344859, -1.6333556445154838, -1.3031032701729117, -1.0572124126050206, -1.5635923798655786, -1.5733923546480604, -0.7759237840118168, -1.3924664843877812, -1.3298159131577025, -1.1194415241194042, -0.9889007318191554, -2.017932265204174, -0.8539507169865503, -1.5394645102639812, -0.5958607459650311, -1.5600945839772897, -1.1673913352452463, -1.7175838442659785]}, {\"marker\": {\"color\": \"rgb(200,10,10)\", \"symbol\": \"circle\"}, \"name\": \"centroid0\", \"type\": \"scatter\", \"x\": [0.2761559479028871], \"y\": [-1.3533369220874958]}],\n",
       "                        {\"legend\": {\"font\": {\"size\": 16}}, \"template\": {\"data\": {\"bar\": [{\"error_x\": {\"color\": \"#2a3f5f\"}, \"error_y\": {\"color\": \"#2a3f5f\"}, \"marker\": {\"line\": {\"color\": \"#E5ECF6\", \"width\": 0.5}}, \"type\": \"bar\"}], \"barpolar\": [{\"marker\": {\"line\": {\"color\": \"#E5ECF6\", \"width\": 0.5}}, \"type\": \"barpolar\"}], \"carpet\": [{\"aaxis\": {\"endlinecolor\": \"#2a3f5f\", \"gridcolor\": \"white\", \"linecolor\": \"white\", \"minorgridcolor\": \"white\", \"startlinecolor\": \"#2a3f5f\"}, \"baxis\": {\"endlinecolor\": \"#2a3f5f\", \"gridcolor\": \"white\", \"linecolor\": \"white\", \"minorgridcolor\": \"white\", \"startlinecolor\": \"#2a3f5f\"}, \"type\": \"carpet\"}], \"choropleth\": [{\"colorbar\": {\"outlinewidth\": 0, \"ticks\": \"\"}, \"type\": \"choropleth\"}], \"contour\": [{\"colorbar\": {\"outlinewidth\": 0, \"ticks\": \"\"}, \"colorscale\": [[0.0, \"#0d0887\"], [0.1111111111111111, \"#46039f\"], [0.2222222222222222, \"#7201a8\"], [0.3333333333333333, \"#9c179e\"], [0.4444444444444444, \"#bd3786\"], [0.5555555555555556, \"#d8576b\"], [0.6666666666666666, \"#ed7953\"], [0.7777777777777778, \"#fb9f3a\"], [0.8888888888888888, \"#fdca26\"], [1.0, \"#f0f921\"]], \"type\": \"contour\"}], \"contourcarpet\": [{\"colorbar\": {\"outlinewidth\": 0, \"ticks\": \"\"}, \"type\": \"contourcarpet\"}], \"heatmap\": [{\"colorbar\": {\"outlinewidth\": 0, \"ticks\": \"\"}, \"colorscale\": [[0.0, \"#0d0887\"], [0.1111111111111111, \"#46039f\"], [0.2222222222222222, \"#7201a8\"], [0.3333333333333333, \"#9c179e\"], [0.4444444444444444, \"#bd3786\"], [0.5555555555555556, \"#d8576b\"], [0.6666666666666666, \"#ed7953\"], [0.7777777777777778, \"#fb9f3a\"], [0.8888888888888888, \"#fdca26\"], [1.0, \"#f0f921\"]], \"type\": \"heatmap\"}], \"heatmapgl\": [{\"colorbar\": {\"outlinewidth\": 0, \"ticks\": \"\"}, \"colorscale\": [[0.0, \"#0d0887\"], [0.1111111111111111, \"#46039f\"], [0.2222222222222222, \"#7201a8\"], [0.3333333333333333, \"#9c179e\"], [0.4444444444444444, \"#bd3786\"], [0.5555555555555556, \"#d8576b\"], [0.6666666666666666, \"#ed7953\"], [0.7777777777777778, \"#fb9f3a\"], [0.8888888888888888, \"#fdca26\"], [1.0, \"#f0f921\"]], \"type\": \"heatmapgl\"}], \"histogram\": [{\"marker\": {\"colorbar\": {\"outlinewidth\": 0, \"ticks\": \"\"}}, \"type\": \"histogram\"}], \"histogram2d\": [{\"colorbar\": {\"outlinewidth\": 0, \"ticks\": \"\"}, \"colorscale\": [[0.0, \"#0d0887\"], [0.1111111111111111, \"#46039f\"], [0.2222222222222222, \"#7201a8\"], [0.3333333333333333, \"#9c179e\"], [0.4444444444444444, \"#bd3786\"], [0.5555555555555556, \"#d8576b\"], [0.6666666666666666, \"#ed7953\"], [0.7777777777777778, \"#fb9f3a\"], [0.8888888888888888, \"#fdca26\"], [1.0, \"#f0f921\"]], \"type\": \"histogram2d\"}], \"histogram2dcontour\": [{\"colorbar\": {\"outlinewidth\": 0, \"ticks\": \"\"}, \"colorscale\": [[0.0, \"#0d0887\"], [0.1111111111111111, \"#46039f\"], [0.2222222222222222, \"#7201a8\"], [0.3333333333333333, \"#9c179e\"], [0.4444444444444444, \"#bd3786\"], [0.5555555555555556, \"#d8576b\"], [0.6666666666666666, \"#ed7953\"], [0.7777777777777778, \"#fb9f3a\"], [0.8888888888888888, \"#fdca26\"], [1.0, \"#f0f921\"]], \"type\": \"histogram2dcontour\"}], \"mesh3d\": [{\"colorbar\": {\"outlinewidth\": 0, \"ticks\": \"\"}, \"type\": \"mesh3d\"}], \"parcoords\": [{\"line\": {\"colorbar\": {\"outlinewidth\": 0, \"ticks\": \"\"}}, \"type\": \"parcoords\"}], \"scatter\": [{\"marker\": {\"colorbar\": {\"outlinewidth\": 0, \"ticks\": \"\"}}, \"type\": \"scatter\"}], \"scatter3d\": [{\"line\": {\"colorbar\": {\"outlinewidth\": 0, \"ticks\": \"\"}}, \"marker\": {\"colorbar\": {\"outlinewidth\": 0, \"ticks\": \"\"}}, \"type\": \"scatter3d\"}], \"scattercarpet\": [{\"marker\": {\"colorbar\": {\"outlinewidth\": 0, \"ticks\": \"\"}}, \"type\": \"scattercarpet\"}], \"scattergeo\": [{\"marker\": {\"colorbar\": {\"outlinewidth\": 0, \"ticks\": \"\"}}, \"type\": \"scattergeo\"}], \"scattergl\": [{\"marker\": {\"colorbar\": {\"outlinewidth\": 0, \"ticks\": \"\"}}, \"type\": \"scattergl\"}], \"scattermapbox\": [{\"marker\": {\"colorbar\": {\"outlinewidth\": 0, \"ticks\": \"\"}}, \"type\": \"scattermapbox\"}], \"scatterpolar\": [{\"marker\": {\"colorbar\": {\"outlinewidth\": 0, \"ticks\": \"\"}}, \"type\": \"scatterpolar\"}], \"scatterpolargl\": [{\"marker\": {\"colorbar\": {\"outlinewidth\": 0, \"ticks\": \"\"}}, \"type\": \"scatterpolargl\"}], \"scatterternary\": [{\"marker\": {\"colorbar\": {\"outlinewidth\": 0, \"ticks\": \"\"}}, \"type\": \"scatterternary\"}], \"surface\": [{\"colorbar\": {\"outlinewidth\": 0, \"ticks\": \"\"}, \"colorscale\": [[0.0, \"#0d0887\"], [0.1111111111111111, \"#46039f\"], [0.2222222222222222, \"#7201a8\"], [0.3333333333333333, \"#9c179e\"], [0.4444444444444444, \"#bd3786\"], [0.5555555555555556, \"#d8576b\"], [0.6666666666666666, \"#ed7953\"], [0.7777777777777778, \"#fb9f3a\"], [0.8888888888888888, \"#fdca26\"], [1.0, \"#f0f921\"]], \"type\": \"surface\"}], \"table\": [{\"cells\": {\"fill\": {\"color\": \"#EBF0F8\"}, \"line\": {\"color\": \"white\"}}, \"header\": {\"fill\": {\"color\": \"#C8D4E3\"}, \"line\": {\"color\": \"white\"}}, \"type\": \"table\"}]}, \"layout\": {\"annotationdefaults\": {\"arrowcolor\": \"#2a3f5f\", \"arrowhead\": 0, \"arrowwidth\": 1}, \"colorscale\": {\"diverging\": [[0, \"#8e0152\"], [0.1, \"#c51b7d\"], [0.2, \"#de77ae\"], [0.3, \"#f1b6da\"], [0.4, \"#fde0ef\"], [0.5, \"#f7f7f7\"], [0.6, \"#e6f5d0\"], [0.7, \"#b8e186\"], [0.8, \"#7fbc41\"], [0.9, \"#4d9221\"], [1, \"#276419\"]], \"sequential\": [[0.0, \"#0d0887\"], [0.1111111111111111, \"#46039f\"], [0.2222222222222222, \"#7201a8\"], [0.3333333333333333, \"#9c179e\"], [0.4444444444444444, \"#bd3786\"], [0.5555555555555556, \"#d8576b\"], [0.6666666666666666, \"#ed7953\"], [0.7777777777777778, \"#fb9f3a\"], [0.8888888888888888, \"#fdca26\"], [1.0, \"#f0f921\"]], \"sequentialminus\": [[0.0, \"#0d0887\"], [0.1111111111111111, \"#46039f\"], [0.2222222222222222, \"#7201a8\"], [0.3333333333333333, \"#9c179e\"], [0.4444444444444444, \"#bd3786\"], [0.5555555555555556, \"#d8576b\"], [0.6666666666666666, \"#ed7953\"], [0.7777777777777778, \"#fb9f3a\"], [0.8888888888888888, \"#fdca26\"], [1.0, \"#f0f921\"]]}, \"colorway\": [\"#636efa\", \"#EF553B\", \"#00cc96\", \"#ab63fa\", \"#FFA15A\", \"#19d3f3\", \"#FF6692\", \"#B6E880\", \"#FF97FF\", \"#FECB52\"], \"font\": {\"color\": \"#2a3f5f\"}, \"geo\": {\"bgcolor\": \"white\", \"lakecolor\": \"white\", \"landcolor\": \"#E5ECF6\", \"showlakes\": true, \"showland\": true, \"subunitcolor\": \"white\"}, \"hoverlabel\": {\"align\": \"left\"}, \"hovermode\": \"closest\", \"mapbox\": {\"style\": \"light\"}, \"paper_bgcolor\": \"white\", \"plot_bgcolor\": \"#E5ECF6\", \"polar\": {\"angularaxis\": {\"gridcolor\": \"white\", \"linecolor\": \"white\", \"ticks\": \"\"}, \"bgcolor\": \"#E5ECF6\", \"radialaxis\": {\"gridcolor\": \"white\", \"linecolor\": \"white\", \"ticks\": \"\"}}, \"scene\": {\"xaxis\": {\"backgroundcolor\": \"#E5ECF6\", \"gridcolor\": \"white\", \"gridwidth\": 2, \"linecolor\": \"white\", \"showbackground\": true, \"ticks\": \"\", \"zerolinecolor\": \"white\"}, \"yaxis\": {\"backgroundcolor\": \"#E5ECF6\", \"gridcolor\": \"white\", \"gridwidth\": 2, \"linecolor\": \"white\", \"showbackground\": true, \"ticks\": \"\", \"zerolinecolor\": \"white\"}, \"zaxis\": {\"backgroundcolor\": \"#E5ECF6\", \"gridcolor\": \"white\", \"gridwidth\": 2, \"linecolor\": \"white\", \"showbackground\": true, \"ticks\": \"\", \"zerolinecolor\": \"white\"}}, \"shapedefaults\": {\"line\": {\"color\": \"#2a3f5f\"}}, \"ternary\": {\"aaxis\": {\"gridcolor\": \"white\", \"linecolor\": \"white\", \"ticks\": \"\"}, \"baxis\": {\"gridcolor\": \"white\", \"linecolor\": \"white\", \"ticks\": \"\"}, \"bgcolor\": \"#E5ECF6\", \"caxis\": {\"gridcolor\": \"white\", \"linecolor\": \"white\", \"ticks\": \"\"}}, \"title\": {\"x\": 0.05}, \"xaxis\": {\"automargin\": true, \"gridcolor\": \"white\", \"linecolor\": \"white\", \"ticks\": \"\", \"zerolinecolor\": \"white\", \"zerolinewidth\": 2}, \"yaxis\": {\"automargin\": true, \"gridcolor\": \"white\", \"linecolor\": \"white\", \"ticks\": \"\", \"zerolinecolor\": \"white\", \"zerolinewidth\": 2}}}, \"title\": {\"font\": {\"size\": 24}, \"text\": \"K-Means Clustering (k=5)\"}, \"xaxis\": {\"showgrid\": true, \"showticklabels\": false, \"zeroline\": false}, \"yaxis\": {\"showgrid\": true, \"showticklabels\": false, \"zeroline\": false}},\n",
       "                        {\"responsive\": true}\n",
       "                    ).then(function(){\n",
       "                            \n",
       "var gd = document.getElementById('ea8e83ae-03c7-4055-b9cf-6ce8c683339a');\n",
       "var x = new MutationObserver(function (mutations, observer) {{\n",
       "        var display = window.getComputedStyle(gd).display;\n",
       "        if (!display || display === 'none') {{\n",
       "            console.log([gd, 'removed!']);\n",
       "            Plotly.purge(gd);\n",
       "            observer.disconnect();\n",
       "        }}\n",
       "}});\n",
       "\n",
       "// Listen for the removal of the full notebook cells\n",
       "var notebookContainer = gd.closest('#notebook-container');\n",
       "if (notebookContainer) {{\n",
       "    x.observe(notebookContainer, {childList: true});\n",
       "}}\n",
       "\n",
       "// Listen for the clearing of the current output cell\n",
       "var outputEl = gd.closest('.output');\n",
       "if (outputEl) {{\n",
       "    x.observe(outputEl, {childList: true});\n",
       "}}\n",
       "\n",
       "                        })\n",
       "                };\n",
       "                });\n",
       "            </script>\n",
       "        </div>"
      ]
     },
     "metadata": {},
     "output_type": "display_data"
    }
   ],
   "source": [
    "clusters = decomposed_df['clusters'].unique()\n",
    "\n",
    "columns = decomposed_df.columns[1:]\n",
    "\n",
    "symbol = ('circle', 'square', 'triangle-up', 'diamond', 'cross', 'x',\n",
    "                  'triangle-down', 'asterisk', 'octagon', 'diamond-tall-down')\n",
    "color = ('yellow','blue',  'magenta', 'green', 'teal', 'navy','peru',\n",
    "                 'lightslategrey', 'red', 'olive')\n",
    "\n",
    "plot_data = []\n",
    "\n",
    "for c in clusters:\n",
    "    trace1 = {\n",
    "      \"mode\": \"markers\", \n",
    "      \"name\": \"cluster\"+str(c),\n",
    "      \"type\": \"scatter\", \n",
    "      \"x\": decomposed_df.loc[decomposed_df['clusters']==c][columns[0]], \n",
    "      \"y\": decomposed_df.loc[decomposed_df['clusters']==c][columns[1]],\n",
    "      \"marker\": {\n",
    "        \"line\": {\n",
    "          \"color\": \"navy\", \n",
    "          \"width\": 0.5\n",
    "        }, \n",
    "        \"size\": 12, \n",
    "        \"color\": color[c],\n",
    "        \"symbol\": symbol[c]\n",
    "      }\n",
    "    }\n",
    "    trace2 = {\n",
    "      \"name\": \"centroid\"+str(c),\n",
    "      \"type\": \"scatter\", \n",
    "      \"x\": [centroid_df[columns[0]][c]], \n",
    "      \"y\": [centroid_df[columns[1]][c]],\n",
    "      \"marker\": {\n",
    "        \"color\": \"rgb(200,10,10)\", \n",
    "        \"symbol\": symbol[c]\n",
    "      }\n",
    "    }\n",
    "    plot_data.append(trace1)\n",
    "    plot_data.append(trace2)\n",
    "    \n",
    "data = Data(plot_data)\n",
    "layout = {\n",
    "    \"title\": \"K-Means Clustering (k=%s)\" % len(clusters),\n",
    "    \"xaxis\": {\n",
    "        \"showgrid\": True,\n",
    "        \"zeroline\": False,\n",
    "        \"showticklabels\": False\n",
    "    },\n",
    "    \"yaxis\": {\n",
    "        \"showgrid\": True,\n",
    "        \"zeroline\": False,\n",
    "        \"showticklabels\": False\n",
    "    },\n",
    "    \"legend\": {\"font\": {\"size\": 16}},\n",
    "    \"titlefont\": {\"size\": 24}\n",
    "}\n",
    "fig = Figure(data=data, layout=layout)\n",
    "fig.show()"
   ]
  }
 ],
 "metadata": {
  "kernelspec": {
   "display_name": "Python 3",
   "language": "python",
   "name": "python3"
  },
  "language_info": {
   "codemirror_mode": {
    "name": "ipython",
    "version": 3
   },
   "file_extension": ".py",
   "mimetype": "text/x-python",
   "name": "python",
   "nbconvert_exporter": "python",
   "pygments_lexer": "ipython3",
   "version": "3.6.6"
  }
 },
 "nbformat": 4,
 "nbformat_minor": 4
}
